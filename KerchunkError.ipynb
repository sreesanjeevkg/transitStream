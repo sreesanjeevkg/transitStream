{
 "cells": [
  {
   "cell_type": "code",
   "execution_count": 1,
   "id": "1578a302-8ea6-40ca-9e92-c45d81c6270f",
   "metadata": {},
   "outputs": [],
   "source": [
    "import warnings\n",
    "warnings.filterwarnings('ignore')"
   ]
  },
  {
   "cell_type": "code",
   "execution_count": 2,
   "id": "26f69b8a-2546-47e2-8795-706a2641db8c",
   "metadata": {},
   "outputs": [],
   "source": [
    "import os\n",
    "import time\n",
    "import tqdm\n",
    "import ujson\n",
    "import logging\n",
    "from pathlib import Path\n",
    "from itertools import islice\n",
    "from subprocess import check_output\n",
    "from dask import compute, delayed\n",
    "import fsspec\n",
    "from kerchunk.hdf import SingleHdf5ToZarr\n",
    "import traceback\n",
    "import ujson\n",
    "import xarray as xr\n",
    "import tqdm\n",
    "import logging\n",
    "import numpy as np\n",
    "from pathlib import Path\n",
    "from itertools import islice\n",
    "import fsspec\n",
    "from fsspec.implementations.reference import LazyReferenceMapper\n",
    "from kerchunk.combine import MultiZarrToZarr\n",
    "from kerchunk import df"
   ]
  },
  {
   "cell_type": "code",
   "execution_count": 3,
   "id": "87d06cd9-c296-4bda-a720-f2f57821bf81",
   "metadata": {},
   "outputs": [],
   "source": [
    "files = [\"/Users/sreesanjeevkandasamygokulrajan/Downloads/CLDPROP_D3_VIIRS_SNPP.A2024173.011.2024177004727.nc\",\n",
    "           \"/Users/sreesanjeevkandasamygokulrajan/Downloads/CLDPROP_D3_VIIRS_SNPP.A2024174.011.2024178005308.nc\" ]\n",
    "\n",
    "jsons_path = Path(\"/Users/sreesanjeevkandasamygokulrajan/Desktop/singleJson\")\n",
    "\n",
    "for url in files:\n",
    "    with fsspec.open(f\"{url}\") as inf:\n",
    "        h5chunks = SingleHdf5ToZarr(inf, url, inline_threshold=300)\n",
    "        json_data = ujson.dumps(h5chunks.translate()).encode()\n",
    "        outf = f\"{url.split('/')[-1]}.json\"\n",
    "        with open(jsons_path / outf, \"wb\") as f:\n",
    "            f.write(json_data)"
   ]
  },
  {
   "cell_type": "code",
   "execution_count": 4,
   "id": "e2c17d2e-9a9f-4d78-b27e-28298105b891",
   "metadata": {},
   "outputs": [],
   "source": [
    "import re\n",
    "import datetime\n",
    "def fn_to_time(index, fs, var, fn):\n",
    "    match = re.search(r'CLDPROP_D3_VIIRS_SNPP\\.A(\\d{4})(\\d{3})\\.', fn)\n",
    "    year = int(match.group(1))\n",
    "    day_of_year = int(match.group(2))\n",
    "    return datetime.datetime(year, 1, 1) + datetime.timedelta(days=day_of_year - 1)"
   ]
  },
  {
   "cell_type": "code",
   "execution_count": 5,
   "id": "e0400623-1377-4926-92b1-07c810f30025",
   "metadata": {},
   "outputs": [
    {
     "data": {
      "text/plain": [
       "<fsspec.implementations.reference.LazyReferenceMapper at 0x1262fca00>"
      ]
     },
     "execution_count": 5,
     "metadata": {},
     "output_type": "execute_result"
    }
   ],
   "source": [
    "parquetPath = f\"/Users/sreesanjeevkandasamygokulrajan/Desktop/MultiZarrtoZarr/append.parq\"\n",
    "out = LazyReferenceMapper.create(root=parquetPath)\n",
    "\n",
    "MultiZarrToZarr(\n",
    "            [\"/Users/sreesanjeevkandasamygokulrajan/Desktop/singleJson/CLDPROP_D3_VIIRS_SNPP.A2024174.011.2024178005308.nc.json\"],\n",
    "            coo_map={'time': fn_to_time},\n",
    "            coo_dtypes={'time': np.dtype('M8[s]')},\n",
    "            concat_dims=['time'],\n",
    "            out=out,\n",
    "        ).translate()"
   ]
  },
  {
   "cell_type": "code",
   "execution_count": 10,
   "id": "c7ab7e81-3cdb-46a9-8fa8-f1e776522e88",
   "metadata": {},
   "outputs": [
    {
     "ename": "KeyError",
     "evalue": "'Cloud_Top_Temperature_Day/.zarray'",
     "output_type": "error",
     "traceback": [
      "\u001b[0;31m---------------------------------------------------------------------------\u001b[0m",
      "\u001b[0;31mKeyError\u001b[0m                                  Traceback (most recent call last)",
      "Cell \u001b[0;32mIn[10], line 1\u001b[0m\n\u001b[0;32m----> 1\u001b[0m ds \u001b[38;5;241m=\u001b[39m \u001b[43mxr\u001b[49m\u001b[38;5;241;43m.\u001b[39;49m\u001b[43mopen_dataset\u001b[49m\u001b[43m(\u001b[49m\u001b[43mparquetPath\u001b[49m\u001b[43m,\u001b[49m\u001b[43m \u001b[49m\u001b[43mengine\u001b[49m\u001b[38;5;241;43m=\u001b[39;49m\u001b[38;5;124;43m\"\u001b[39;49m\u001b[38;5;124;43mkerchunk\u001b[39;49m\u001b[38;5;124;43m\"\u001b[39;49m\u001b[43m,\u001b[49m\u001b[43m \u001b[49m\u001b[43mchunks\u001b[49m\u001b[38;5;241;43m=\u001b[39;49m\u001b[38;5;124;43m\"\u001b[39;49m\u001b[38;5;124;43mauto\u001b[39;49m\u001b[38;5;124;43m\"\u001b[39;49m\u001b[43m)\u001b[49m\n\u001b[1;32m      2\u001b[0m ds\n",
      "File \u001b[0;32m~/.pyenv/versions/3.10.14/lib/python3.10/site-packages/xarray/backends/api.py:588\u001b[0m, in \u001b[0;36mopen_dataset\u001b[0;34m(filename_or_obj, engine, chunks, cache, decode_cf, mask_and_scale, decode_times, decode_timedelta, use_cftime, concat_characters, decode_coords, drop_variables, inline_array, chunked_array_type, from_array_kwargs, backend_kwargs, **kwargs)\u001b[0m\n\u001b[1;32m    576\u001b[0m decoders \u001b[38;5;241m=\u001b[39m _resolve_decoders_kwargs(\n\u001b[1;32m    577\u001b[0m     decode_cf,\n\u001b[1;32m    578\u001b[0m     open_backend_dataset_parameters\u001b[38;5;241m=\u001b[39mbackend\u001b[38;5;241m.\u001b[39mopen_dataset_parameters,\n\u001b[0;32m   (...)\u001b[0m\n\u001b[1;32m    584\u001b[0m     decode_coords\u001b[38;5;241m=\u001b[39mdecode_coords,\n\u001b[1;32m    585\u001b[0m )\n\u001b[1;32m    587\u001b[0m overwrite_encoded_chunks \u001b[38;5;241m=\u001b[39m kwargs\u001b[38;5;241m.\u001b[39mpop(\u001b[38;5;124m\"\u001b[39m\u001b[38;5;124moverwrite_encoded_chunks\u001b[39m\u001b[38;5;124m\"\u001b[39m, \u001b[38;5;28;01mNone\u001b[39;00m)\n\u001b[0;32m--> 588\u001b[0m backend_ds \u001b[38;5;241m=\u001b[39m \u001b[43mbackend\u001b[49m\u001b[38;5;241;43m.\u001b[39;49m\u001b[43mopen_dataset\u001b[49m\u001b[43m(\u001b[49m\n\u001b[1;32m    589\u001b[0m \u001b[43m    \u001b[49m\u001b[43mfilename_or_obj\u001b[49m\u001b[43m,\u001b[49m\n\u001b[1;32m    590\u001b[0m \u001b[43m    \u001b[49m\u001b[43mdrop_variables\u001b[49m\u001b[38;5;241;43m=\u001b[39;49m\u001b[43mdrop_variables\u001b[49m\u001b[43m,\u001b[49m\n\u001b[1;32m    591\u001b[0m \u001b[43m    \u001b[49m\u001b[38;5;241;43m*\u001b[39;49m\u001b[38;5;241;43m*\u001b[39;49m\u001b[43mdecoders\u001b[49m\u001b[43m,\u001b[49m\n\u001b[1;32m    592\u001b[0m \u001b[43m    \u001b[49m\u001b[38;5;241;43m*\u001b[39;49m\u001b[38;5;241;43m*\u001b[39;49m\u001b[43mkwargs\u001b[49m\u001b[43m,\u001b[49m\n\u001b[1;32m    593\u001b[0m \u001b[43m\u001b[49m\u001b[43m)\u001b[49m\n\u001b[1;32m    594\u001b[0m ds \u001b[38;5;241m=\u001b[39m _dataset_from_backend_dataset(\n\u001b[1;32m    595\u001b[0m     backend_ds,\n\u001b[1;32m    596\u001b[0m     filename_or_obj,\n\u001b[0;32m   (...)\u001b[0m\n\u001b[1;32m    606\u001b[0m     \u001b[38;5;241m*\u001b[39m\u001b[38;5;241m*\u001b[39mkwargs,\n\u001b[1;32m    607\u001b[0m )\n\u001b[1;32m    608\u001b[0m \u001b[38;5;28;01mreturn\u001b[39;00m ds\n",
      "File \u001b[0;32m~/kerchunk/kerchunk/xarray_backend.py:12\u001b[0m, in \u001b[0;36mKerchunkBackend.open_dataset\u001b[0;34m(self, filename_or_obj, storage_options, open_dataset_options, **kw)\u001b[0m\n\u001b[1;32m      8\u001b[0m \u001b[38;5;28;01mdef\u001b[39;00m \u001b[38;5;21mopen_dataset\u001b[39m(\n\u001b[1;32m      9\u001b[0m     \u001b[38;5;28mself\u001b[39m, filename_or_obj, \u001b[38;5;241m*\u001b[39m, storage_options\u001b[38;5;241m=\u001b[39m\u001b[38;5;28;01mNone\u001b[39;00m, open_dataset_options\u001b[38;5;241m=\u001b[39m\u001b[38;5;28;01mNone\u001b[39;00m, \u001b[38;5;241m*\u001b[39m\u001b[38;5;241m*\u001b[39mkw\n\u001b[1;32m     10\u001b[0m ):\n\u001b[1;32m     11\u001b[0m     open_dataset_options \u001b[38;5;241m=\u001b[39m (open_dataset_options \u001b[38;5;129;01mor\u001b[39;00m {}) \u001b[38;5;241m|\u001b[39m kw\n\u001b[0;32m---> 12\u001b[0m     ref_ds \u001b[38;5;241m=\u001b[39m \u001b[43mopen_reference_dataset\u001b[49m\u001b[43m(\u001b[49m\n\u001b[1;32m     13\u001b[0m \u001b[43m        \u001b[49m\u001b[43mfilename_or_obj\u001b[49m\u001b[43m,\u001b[49m\n\u001b[1;32m     14\u001b[0m \u001b[43m        \u001b[49m\u001b[43mstorage_options\u001b[49m\u001b[38;5;241;43m=\u001b[39;49m\u001b[43mstorage_options\u001b[49m\u001b[43m,\u001b[49m\n\u001b[1;32m     15\u001b[0m \u001b[43m        \u001b[49m\u001b[43mopen_dataset_options\u001b[49m\u001b[38;5;241;43m=\u001b[39;49m\u001b[43mopen_dataset_options\u001b[49m\u001b[43m,\u001b[49m\n\u001b[1;32m     16\u001b[0m \u001b[43m    \u001b[49m\u001b[43m)\u001b[49m\n\u001b[1;32m     17\u001b[0m     \u001b[38;5;28;01mreturn\u001b[39;00m ref_ds\n",
      "File \u001b[0;32m~/kerchunk/kerchunk/xarray_backend.py:44\u001b[0m, in \u001b[0;36mopen_reference_dataset\u001b[0;34m(filename_or_obj, storage_options, open_dataset_options)\u001b[0m\n\u001b[1;32m     41\u001b[0m \u001b[38;5;28;01mif\u001b[39;00m open_dataset_options \u001b[38;5;129;01mis\u001b[39;00m \u001b[38;5;28;01mNone\u001b[39;00m:\n\u001b[1;32m     42\u001b[0m     open_dataset_options \u001b[38;5;241m=\u001b[39m {}\n\u001b[0;32m---> 44\u001b[0m m \u001b[38;5;241m=\u001b[39m \u001b[43mfsspec\u001b[49m\u001b[38;5;241;43m.\u001b[39;49m\u001b[43mget_mapper\u001b[49m\u001b[43m(\u001b[49m\u001b[38;5;124;43m\"\u001b[39;49m\u001b[38;5;124;43mreference://\u001b[39;49m\u001b[38;5;124;43m\"\u001b[39;49m\u001b[43m,\u001b[49m\u001b[43m \u001b[49m\u001b[43mfo\u001b[49m\u001b[38;5;241;43m=\u001b[39;49m\u001b[43mfilename_or_obj\u001b[49m\u001b[43m,\u001b[49m\u001b[43m \u001b[49m\u001b[38;5;241;43m*\u001b[39;49m\u001b[38;5;241;43m*\u001b[39;49m\u001b[43mstorage_options\u001b[49m\u001b[43m)\u001b[49m\n\u001b[1;32m     46\u001b[0m \u001b[38;5;28;01mreturn\u001b[39;00m xr\u001b[38;5;241m.\u001b[39mopen_dataset(m, engine\u001b[38;5;241m=\u001b[39m\u001b[38;5;124m\"\u001b[39m\u001b[38;5;124mzarr\u001b[39m\u001b[38;5;124m\"\u001b[39m, consolidated\u001b[38;5;241m=\u001b[39m\u001b[38;5;28;01mFalse\u001b[39;00m, \u001b[38;5;241m*\u001b[39m\u001b[38;5;241m*\u001b[39mopen_dataset_options)\n",
      "File \u001b[0;32m~/filesystem_spec/fsspec/mapping.py:249\u001b[0m, in \u001b[0;36mget_mapper\u001b[0;34m(url, check, create, missing_exceptions, alternate_root, **kwargs)\u001b[0m\n\u001b[1;32m    218\u001b[0m \u001b[38;5;250m\u001b[39m\u001b[38;5;124;03m\"\"\"Create key-value interface for given URL and options\u001b[39;00m\n\u001b[1;32m    219\u001b[0m \n\u001b[1;32m    220\u001b[0m \u001b[38;5;124;03mThe URL will be of the form \"protocol://location\" and point to the root\u001b[39;00m\n\u001b[0;32m   (...)\u001b[0m\n\u001b[1;32m    246\u001b[0m \u001b[38;5;124;03m``FSMap`` instance, the dict-like key-value store.\u001b[39;00m\n\u001b[1;32m    247\u001b[0m \u001b[38;5;124;03m\"\"\"\u001b[39;00m\n\u001b[1;32m    248\u001b[0m \u001b[38;5;66;03m# Removing protocol here - could defer to each open() on the backend\u001b[39;00m\n\u001b[0;32m--> 249\u001b[0m fs, urlpath \u001b[38;5;241m=\u001b[39m \u001b[43murl_to_fs\u001b[49m\u001b[43m(\u001b[49m\u001b[43murl\u001b[49m\u001b[43m,\u001b[49m\u001b[43m \u001b[49m\u001b[38;5;241;43m*\u001b[39;49m\u001b[38;5;241;43m*\u001b[39;49m\u001b[43mkwargs\u001b[49m\u001b[43m)\u001b[49m\n\u001b[1;32m    250\u001b[0m root \u001b[38;5;241m=\u001b[39m alternate_root \u001b[38;5;28;01mif\u001b[39;00m alternate_root \u001b[38;5;129;01mis\u001b[39;00m \u001b[38;5;129;01mnot\u001b[39;00m \u001b[38;5;28;01mNone\u001b[39;00m \u001b[38;5;28;01melse\u001b[39;00m urlpath\n\u001b[1;32m    251\u001b[0m \u001b[38;5;28;01mreturn\u001b[39;00m FSMap(root, fs, check, create, missing_exceptions\u001b[38;5;241m=\u001b[39mmissing_exceptions)\n",
      "File \u001b[0;32m~/filesystem_spec/fsspec/core.py:408\u001b[0m, in \u001b[0;36murl_to_fs\u001b[0;34m(url, **kwargs)\u001b[0m\n\u001b[1;32m    406\u001b[0m     inkwargs[\u001b[38;5;124m\"\u001b[39m\u001b[38;5;124mfo\u001b[39m\u001b[38;5;124m\"\u001b[39m] \u001b[38;5;241m=\u001b[39m urls\n\u001b[1;32m    407\u001b[0m urlpath, protocol, _ \u001b[38;5;241m=\u001b[39m chain[\u001b[38;5;241m0\u001b[39m]\n\u001b[0;32m--> 408\u001b[0m fs \u001b[38;5;241m=\u001b[39m \u001b[43mfilesystem\u001b[49m\u001b[43m(\u001b[49m\u001b[43mprotocol\u001b[49m\u001b[43m,\u001b[49m\u001b[43m \u001b[49m\u001b[38;5;241;43m*\u001b[39;49m\u001b[38;5;241;43m*\u001b[39;49m\u001b[43minkwargs\u001b[49m\u001b[43m)\u001b[49m\n\u001b[1;32m    409\u001b[0m \u001b[38;5;28;01mreturn\u001b[39;00m fs, urlpath\n",
      "File \u001b[0;32m~/filesystem_spec/fsspec/registry.py:303\u001b[0m, in \u001b[0;36mfilesystem\u001b[0;34m(protocol, **storage_options)\u001b[0m\n\u001b[1;32m    296\u001b[0m     warnings\u001b[38;5;241m.\u001b[39mwarn(\n\u001b[1;32m    297\u001b[0m         \u001b[38;5;124m\"\u001b[39m\u001b[38;5;124mThe \u001b[39m\u001b[38;5;124m'\u001b[39m\u001b[38;5;124marrow_hdfs\u001b[39m\u001b[38;5;124m'\u001b[39m\u001b[38;5;124m protocol has been deprecated and will be \u001b[39m\u001b[38;5;124m\"\u001b[39m\n\u001b[1;32m    298\u001b[0m         \u001b[38;5;124m\"\u001b[39m\u001b[38;5;124mremoved in the future. Specify it as \u001b[39m\u001b[38;5;124m'\u001b[39m\u001b[38;5;124mhdfs\u001b[39m\u001b[38;5;124m'\u001b[39m\u001b[38;5;124m.\u001b[39m\u001b[38;5;124m\"\u001b[39m,\n\u001b[1;32m    299\u001b[0m         \u001b[38;5;167;01mDeprecationWarning\u001b[39;00m,\n\u001b[1;32m    300\u001b[0m     )\n\u001b[1;32m    302\u001b[0m \u001b[38;5;28mcls\u001b[39m \u001b[38;5;241m=\u001b[39m get_filesystem_class(protocol)\n\u001b[0;32m--> 303\u001b[0m \u001b[38;5;28;01mreturn\u001b[39;00m \u001b[38;5;28;43mcls\u001b[39;49m\u001b[43m(\u001b[49m\u001b[38;5;241;43m*\u001b[39;49m\u001b[38;5;241;43m*\u001b[39;49m\u001b[43mstorage_options\u001b[49m\u001b[43m)\u001b[49m\n",
      "File \u001b[0;32m~/filesystem_spec/fsspec/spec.py:81\u001b[0m, in \u001b[0;36m_Cached.__call__\u001b[0;34m(cls, *args, **kwargs)\u001b[0m\n\u001b[1;32m     79\u001b[0m     \u001b[38;5;28;01mreturn\u001b[39;00m \u001b[38;5;28mcls\u001b[39m\u001b[38;5;241m.\u001b[39m_cache[token]\n\u001b[1;32m     80\u001b[0m \u001b[38;5;28;01melse\u001b[39;00m:\n\u001b[0;32m---> 81\u001b[0m     obj \u001b[38;5;241m=\u001b[39m \u001b[38;5;28;43msuper\u001b[39;49m\u001b[43m(\u001b[49m\u001b[43m)\u001b[49m\u001b[38;5;241;43m.\u001b[39;49m\u001b[38;5;21;43m__call__\u001b[39;49m\u001b[43m(\u001b[49m\u001b[38;5;241;43m*\u001b[39;49m\u001b[43margs\u001b[49m\u001b[43m,\u001b[49m\u001b[43m \u001b[49m\u001b[38;5;241;43m*\u001b[39;49m\u001b[38;5;241;43m*\u001b[39;49m\u001b[43mkwargs\u001b[49m\u001b[43m)\u001b[49m\n\u001b[1;32m     82\u001b[0m     \u001b[38;5;66;03m# Setting _fs_token here causes some static linters to complain.\u001b[39;00m\n\u001b[1;32m     83\u001b[0m     obj\u001b[38;5;241m.\u001b[39m_fs_token_ \u001b[38;5;241m=\u001b[39m token\n",
      "File \u001b[0;32m~/filesystem_spec/fsspec/implementations/reference.py:714\u001b[0m, in \u001b[0;36mReferenceFileSystem.__init__\u001b[0;34m(self, fo, target, ref_storage_args, target_protocol, target_options, remote_protocol, remote_options, fs, template_overrides, simple_templates, max_gap, max_block, cache_size, **kwargs)\u001b[0m\n\u001b[1;32m    710\u001b[0m             \u001b[38;5;28mself\u001b[39m\u001b[38;5;241m.\u001b[39mfss[protocol] \u001b[38;5;241m=\u001b[39m fs\n\u001b[1;32m    711\u001b[0m \u001b[38;5;28;01mif\u001b[39;00m remote_protocol \u001b[38;5;129;01mis\u001b[39;00m \u001b[38;5;28;01mNone\u001b[39;00m:\n\u001b[1;32m    712\u001b[0m     \u001b[38;5;66;03m# get single protocol from references\u001b[39;00m\n\u001b[1;32m    713\u001b[0m     \u001b[38;5;66;03m# TODO: warning here, since this can be very expensive?\u001b[39;00m\n\u001b[0;32m--> 714\u001b[0m     \u001b[38;5;28;01mfor\u001b[39;00m ref \u001b[38;5;129;01min\u001b[39;00m \u001b[38;5;28mself\u001b[39m\u001b[38;5;241m.\u001b[39mreferences\u001b[38;5;241m.\u001b[39mvalues():\n\u001b[1;32m    715\u001b[0m         \u001b[38;5;28;01mif\u001b[39;00m \u001b[38;5;28mcallable\u001b[39m(ref):\n\u001b[1;32m    716\u001b[0m             ref \u001b[38;5;241m=\u001b[39m ref()\n",
      "File \u001b[0;32m~/filesystem_spec/fsspec/implementations/reference.py:64\u001b[0m, in \u001b[0;36mRefsValuesView.__iter__\u001b[0;34m(self)\u001b[0m\n\u001b[1;32m     62\u001b[0m \u001b[38;5;28;01myield from\u001b[39;00m \u001b[38;5;28mself\u001b[39m\u001b[38;5;241m.\u001b[39m_mapping\u001b[38;5;241m.\u001b[39m_items\u001b[38;5;241m.\u001b[39mvalues()\n\u001b[1;32m     63\u001b[0m \u001b[38;5;28;01mfor\u001b[39;00m field \u001b[38;5;129;01min\u001b[39;00m \u001b[38;5;28mself\u001b[39m\u001b[38;5;241m.\u001b[39m_mapping\u001b[38;5;241m.\u001b[39mlistdir():\n\u001b[0;32m---> 64\u001b[0m     chunk_sizes \u001b[38;5;241m=\u001b[39m \u001b[38;5;28;43mself\u001b[39;49m\u001b[38;5;241;43m.\u001b[39;49m\u001b[43m_mapping\u001b[49m\u001b[38;5;241;43m.\u001b[39;49m\u001b[43m_get_chunk_sizes\u001b[49m\u001b[43m(\u001b[49m\u001b[43mfield\u001b[49m\u001b[43m)\u001b[49m\n\u001b[1;32m     65\u001b[0m     \u001b[38;5;28;01mif\u001b[39;00m \u001b[38;5;28mlen\u001b[39m(chunk_sizes) \u001b[38;5;241m==\u001b[39m \u001b[38;5;241m0\u001b[39m:\n\u001b[1;32m     66\u001b[0m         \u001b[38;5;28;01myield\u001b[39;00m \u001b[38;5;28mself\u001b[39m\u001b[38;5;241m.\u001b[39m_mapping[field \u001b[38;5;241m+\u001b[39m \u001b[38;5;124m\"\u001b[39m\u001b[38;5;124m/0\u001b[39m\u001b[38;5;124m\"\u001b[39m]\n",
      "File \u001b[0;32m~/filesystem_spec/fsspec/implementations/reference.py:326\u001b[0m, in \u001b[0;36mLazyReferenceMapper._get_chunk_sizes\u001b[0;34m(self, field)\u001b[0m\n\u001b[1;32m    324\u001b[0m \u001b[38;5;250m\u001b[39m\u001b[38;5;124;03m\"\"\"The number of chunks along each axis for a given field\"\"\"\u001b[39;00m\n\u001b[1;32m    325\u001b[0m \u001b[38;5;28;01mif\u001b[39;00m field \u001b[38;5;129;01mnot\u001b[39;00m \u001b[38;5;129;01min\u001b[39;00m \u001b[38;5;28mself\u001b[39m\u001b[38;5;241m.\u001b[39mchunk_sizes:\n\u001b[0;32m--> 326\u001b[0m     zarray \u001b[38;5;241m=\u001b[39m \u001b[38;5;28;43mself\u001b[39;49m\u001b[38;5;241;43m.\u001b[39;49m\u001b[43mzmetadata\u001b[49m\u001b[43m[\u001b[49m\u001b[38;5;124;43mf\u001b[39;49m\u001b[38;5;124;43m\"\u001b[39;49m\u001b[38;5;132;43;01m{\u001b[39;49;00m\u001b[43mfield\u001b[49m\u001b[38;5;132;43;01m}\u001b[39;49;00m\u001b[38;5;124;43m/.zarray\u001b[39;49m\u001b[38;5;124;43m\"\u001b[39;49m\u001b[43m]\u001b[49m\n\u001b[1;32m    327\u001b[0m     size_ratio \u001b[38;5;241m=\u001b[39m [\n\u001b[1;32m    328\u001b[0m         math\u001b[38;5;241m.\u001b[39mceil(s \u001b[38;5;241m/\u001b[39m c) \u001b[38;5;28;01mfor\u001b[39;00m s, c \u001b[38;5;129;01min\u001b[39;00m \u001b[38;5;28mzip\u001b[39m(zarray[\u001b[38;5;124m\"\u001b[39m\u001b[38;5;124mshape\u001b[39m\u001b[38;5;124m\"\u001b[39m], zarray[\u001b[38;5;124m\"\u001b[39m\u001b[38;5;124mchunks\u001b[39m\u001b[38;5;124m\"\u001b[39m])\n\u001b[1;32m    329\u001b[0m     ]\n\u001b[1;32m    330\u001b[0m     \u001b[38;5;28mself\u001b[39m\u001b[38;5;241m.\u001b[39mchunk_sizes[field] \u001b[38;5;241m=\u001b[39m size_ratio \u001b[38;5;129;01mor\u001b[39;00m [\u001b[38;5;241m1\u001b[39m]\n",
      "\u001b[0;31mKeyError\u001b[0m: 'Cloud_Top_Temperature_Day/.zarray'"
     ]
    }
   ],
   "source": [
    "ds = xr.open_dataset(parquetPath, engine=\"kerchunk\", chunks=\"auto\")\n",
    "ds"
   ]
  },
  {
   "cell_type": "code",
   "execution_count": null,
   "id": "cadad58d-f55f-41a1-a81a-311601dafd1f",
   "metadata": {},
   "outputs": [],
   "source": [
    "# output = LazyReferenceMapper(root=parquetPath)\n",
    "\n",
    "out_dict = MultiZarrToZarr.append(\n",
    "            [\"/Users/sreesanjeevkandasamygokulrajan/Desktop/singleJson/CLDPROP_D3_VIIRS_SNPP.A2024173.011.2024177004727.nc.json\"],\n",
    "            original_refs=LazyReferenceMapper(root = \"/Users/sreesanjeevkandasamygokulrajan/Desktop/MultiZarrtoZarr/append.parq\"),\n",
    "            coo_map={'time': fn_to_time},\n",
    "            coo_dtypes={'time': np.dtype('M8[s]')},\n",
    "            concat_dims=['time'],\n",
    "            remote_protocol=\"file\",\n",
    "        )"
   ]
  },
  {
   "cell_type": "code",
   "execution_count": null,
   "id": "7e80f0da-2fa9-4776-8ef6-a10d188678fc",
   "metadata": {},
   "outputs": [],
   "source": [
    "ds = xr.open_dataset(parquetPath, engine='kerchunk', chunks=\"auto\")\n",
    "ds"
   ]
  },
  {
   "cell_type": "code",
   "execution_count": 8,
   "id": "d41edbfa-76f7-4481-99bf-a4512ae3340b",
   "metadata": {},
   "outputs": [
    {
     "name": "stdout",
     "output_type": "stream",
     "text": [
      "\u001b[01;31m\u001b[Kfsspec\u001b[m\u001b[K                    2024.6.1.post8+g3ff5fca.d20240801 /Users/sreesanjeevkandasamygokulrajan/filesystem_spec\n",
      "\n",
      "\u001b[1m[\u001b[0m\u001b[34;49mnotice\u001b[0m\u001b[1;39;49m]\u001b[0m\u001b[39;49m A new release of pip is available: \u001b[0m\u001b[31;49m23.0.1\u001b[0m\u001b[39;49m -> \u001b[0m\u001b[32;49m24.2\u001b[0m\n",
      "\u001b[1m[\u001b[0m\u001b[34;49mnotice\u001b[0m\u001b[1;39;49m]\u001b[0m\u001b[39;49m To update, run: \u001b[0m\u001b[32;49m/Users/sreesanjeevkandasamygokulrajan/.pyenv/versions/3.10.14/bin/python -m pip install --upgrade pip\u001b[0m\n",
      "Note: you may need to restart the kernel to use updated packages.\n"
     ]
    }
   ],
   "source": [
    "pip list | grep fsspec"
   ]
  }
 ],
 "metadata": {
  "kernelspec": {
   "display_name": "Python 3 (ipykernel)",
   "language": "python",
   "name": "python3"
  },
  "language_info": {
   "codemirror_mode": {
    "name": "ipython",
    "version": 3
   },
   "file_extension": ".py",
   "mimetype": "text/x-python",
   "name": "python",
   "nbconvert_exporter": "python",
   "pygments_lexer": "ipython3",
   "version": "3.10.14"
  }
 },
 "nbformat": 4,
 "nbformat_minor": 5
}
