{
 "cells": [
  {
   "cell_type": "code",
   "execution_count": 1,
   "id": "d968652c-9b83-45f2-bab4-7cd3848f2952",
   "metadata": {},
   "outputs": [],
   "source": [
    "import os\n",
    "import logging\n",
    "\n",
    "from pyflink.common import WatermarkStrategy\n",
    "from pyflink.datastream import StreamExecutionEnvironment, RuntimeExecutionMode\n",
    "from pyflink.datastream.connectors.kafka import KafkaSource, KafkaOffsetsInitializer\n",
    "from pyflink.datastream.formats.json import JsonRowDeserializationSchema\n",
    "from pyflink.common import Types, Row\n",
    "from pyflink.datastream.connectors.jdbc import JdbcSink, JdbcConnectionOptions, JdbcExecutionOptions\n",
    "from pyflink.datastream.connectors.kafka import KafkaTopicPartition\n",
    "import json\n",
    "from datetime import datetime\n",
    "\n",
    "RUNTIME_ENV = os.getenv(\"RUNTIME_ENV\", \"local\")\n",
    "BOOTSTRAP_SERVERS = os.getenv(\"BOOTSTRAP_SERVERS\", \"localhost:9092\")"
   ]
  },
  {
   "cell_type": "code",
   "execution_count": 2,
   "id": "a0556c2f-5147-4150-9870-02d32ac153c2",
   "metadata": {},
   "outputs": [
    {
     "data": {
      "text/plain": [
       "JavaObject id=o11"
      ]
     },
     "execution_count": 2,
     "metadata": {},
     "output_type": "execute_result"
    }
   ],
   "source": [
    "env = StreamExecutionEnvironment.get_execution_environment()\n",
    "env.set_runtime_mode(RuntimeExecutionMode.STREAMING)"
   ]
  },
  {
   "cell_type": "code",
   "execution_count": 3,
   "id": "17162c43-d679-4c7f-9507-e56ee46510a2",
   "metadata": {},
   "outputs": [],
   "source": [
    "jar_files = [\"flink-sql-connector-kafka-3.2.0-1.18.jar\", \"postgresql-42.6.0.jar\", \"flink-connector-jdbc-3.1.2-1.18.jar\", \"flink-sql-connector-postgres-cdc-3.1.1.jar\"]"
   ]
  },
  {
   "cell_type": "code",
   "execution_count": 4,
   "id": "57fd0d3b-1382-4c80-84ee-5ad307a11911",
   "metadata": {},
   "outputs": [],
   "source": [
    "CURRENT_DIR = os.getcwd()"
   ]
  },
  {
   "cell_type": "code",
   "execution_count": 5,
   "id": "e324b031-fedd-426b-848e-2ae1ca95b0cc",
   "metadata": {},
   "outputs": [],
   "source": [
    "jar_paths = tuple(\n",
    "            [f\"file://{os.path.join(CURRENT_DIR, 'Downloads', name)}\" for name in jar_files]\n",
    "        )\n",
    "logging.info(f\"adding local jars - {', '.join(jar_files)}\")\n",
    "env.add_jars(*jar_paths)"
   ]
  },
  {
   "cell_type": "code",
   "execution_count": null,
   "id": "788dec58-3da6-44de-a229-bde0c297a831",
   "metadata": {},
   "outputs": [],
   "source": []
  }
 ],
 "metadata": {
  "kernelspec": {
   "display_name": "Python 3 (ipykernel)",
   "language": "python",
   "name": "python3"
  },
  "language_info": {
   "codemirror_mode": {
    "name": "ipython",
    "version": 3
   },
   "file_extension": ".py",
   "mimetype": "text/x-python",
   "name": "python",
   "nbconvert_exporter": "python",
   "pygments_lexer": "ipython3",
   "version": "3.10.14"
  }
 },
 "nbformat": 4,
 "nbformat_minor": 5
}
