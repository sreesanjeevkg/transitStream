{
 "cells": [
  {
   "cell_type": "code",
   "execution_count": 4,
   "id": "6591a150-e033-4b39-b8ea-be7b2837a8b0",
   "metadata": {},
   "outputs": [],
   "source": [
    "from pyflink.common import Row\n",
    "from pyflink.datastream import StreamExecutionEnvironment\n",
    "from pyflink.datastream import OutputTag\n",
    "from pyflink.table import DataTypes, StreamTableEnvironment\n",
    "from pyflink.table.expressions import col\n",
    "from pyflink.table.types import RowKind\n",
    "\n",
    "env = StreamExecutionEnvironment.get_execution_environment()\n",
    "t_env = StreamTableEnvironment.create(env)\n",
    "\n",
    "# create Table with event-time\n",
    "t_env.execute_sql(\n",
    "    \"CREATE TABLE GeneratedTable \"\n",
    "    + \"(\"\n",
    "    + \"  name STRING,\"\n",
    "    + \"  score INT,\"\n",
    "    + \"  event_time TIMESTAMP_LTZ(3),\"\n",
    "    + \"  WATERMARK FOR event_time AS event_time - INTERVAL '10' SECOND\"\n",
    "    + \")\"\n",
    "    + \"WITH ('connector'='datagen')\")\n",
    "\n",
    "table = t_env.from_path(\"GeneratedTable\")"
   ]
  },
  {
   "cell_type": "code",
   "execution_count": 26,
   "id": "bed1e7c3-c7a0-4b21-af77-0db0192bac7d",
   "metadata": {},
   "outputs": [
    {
     "name": "stdout",
     "output_type": "stream",
     "text": [
      "5> <Row('Bob', 12, '+I')>\n",
      "6> <Row('Alice', 12, '+I')>\n",
      "6> <Row('Alice', 12, '-U')>\n",
      "6> <Row('Alice', 14, '+U')>\n"
     ]
    },
    {
     "data": {
      "text/plain": [
       "<pyflink.common.job_execution_result.JobExecutionResult at 0x124bdaf50>"
      ]
     },
     "execution_count": 26,
     "metadata": {},
     "output_type": "execute_result"
    }
   ],
   "source": [
    "# === EXAMPLE 1 ===\n",
    "\n",
    "# convert to DataStream in the simplest and most general way possible (no event-time)\n",
    "simple_table = t_env.from_elements([Row(\"Alice\", 12), Row(\"Alice\", 2), Row(\"Bob\", 12)],\n",
    "                                  DataTypes.ROW([DataTypes.FIELD(\"name\", DataTypes.STRING()),\n",
    "                                                DataTypes.FIELD(\"score\", DataTypes.INT())]))\n",
    "\n",
    "simple_table = simple_table.group_by(col('name')).select(col('name'), col('score').sum.alias('Scoresum'))\n",
    "\n",
    "changelog_stream = t_env.to_changelog_stream(simple_table)\n",
    "\n",
    "def addRowKind(row):\n",
    "    op = str(row.get_row_kind())\n",
    "    return Row(*row, op)\n",
    "\n",
    "# Apply the ProcessFunction to the changelog stream\n",
    "changelog_stream.map(addRowKind).print()\n",
    "\n",
    "env.execute()"
   ]
  }
 ],
 "metadata": {
  "kernelspec": {
   "display_name": "Python 3 (ipykernel)",
   "language": "python",
   "name": "python3"
  },
  "language_info": {
   "codemirror_mode": {
    "name": "ipython",
    "version": 3
   },
   "file_extension": ".py",
   "mimetype": "text/x-python",
   "name": "python",
   "nbconvert_exporter": "python",
   "pygments_lexer": "ipython3",
   "version": "3.10.14"
  }
 },
 "nbformat": 4,
 "nbformat_minor": 5
}
