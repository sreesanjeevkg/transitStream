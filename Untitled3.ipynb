{
 "cells": [
  {
   "cell_type": "code",
   "execution_count": 1,
   "id": "ff820f15-1282-4bff-8652-a547e8a0ea3e",
   "metadata": {},
   "outputs": [],
   "source": [
    "import findspark\n",
    "findspark.init()\n",
    "from pyspark.sql import SparkSession"
   ]
  },
  {
   "cell_type": "code",
   "execution_count": 2,
   "id": "fb75e1b9-5c9e-416e-b57a-b69a101a7a38",
   "metadata": {},
   "outputs": [
    {
     "name": "stderr",
     "output_type": "stream",
     "text": [
      "Setting default log level to \"WARN\".\n",
      "To adjust logging level use sc.setLogLevel(newLevel). For SparkR, use setLogLevel(newLevel).\n",
      "24/06/17 20:02:10 WARN NativeCodeLoader: Unable to load native-hadoop library for your platform... using builtin-java classes where applicable\n"
     ]
    }
   ],
   "source": [
    "spark = SparkSession.builder.appName(\"refuse_aagatha\").master(\"local[2]\") \\\n",
    "        .config(\"spark.driver.memory\", \"4g\").getOrCreate()"
   ]
  },
  {
   "cell_type": "code",
   "execution_count": 3,
   "id": "fd0eec19-3cb2-4201-b629-86b192bf28e5",
   "metadata": {},
   "outputs": [
    {
     "name": "stderr",
     "output_type": "stream",
     "text": [
      "                                                                                \r"
     ]
    }
   ],
   "source": [
    "area1 = spark.read.parquet(\"/Users/sreesanjeevkandasamygokulrajan/Downloads/area1.parquet\")"
   ]
  },
  {
   "cell_type": "code",
   "execution_count": 4,
   "id": "64c10d51-401e-4cb1-bc4e-aa56aa710038",
   "metadata": {},
   "outputs": [
    {
     "data": {
      "text/plain": [
       "19"
      ]
     },
     "execution_count": 4,
     "metadata": {},
     "output_type": "execute_result"
    }
   ],
   "source": [
    "area1.rdd.getNumPartitions()"
   ]
  },
  {
   "cell_type": "code",
   "execution_count": 5,
   "id": "0419fc51-286e-4766-aefd-bf7995858bc2",
   "metadata": {},
   "outputs": [
    {
     "name": "stderr",
     "output_type": "stream",
     "text": [
      "                                                                                \r"
     ]
    },
    {
     "name": "stdout",
     "output_type": "stream",
     "text": [
      "+-------------------+-------------------+------------------+-------------------+-------------------+-----------------+----+----+----+------------------+---+-----+\n",
      "|                  X|                  Y|                 Z|            X_noise|            Y_noise|          Z_noise|   R|   G|   B|              time|eol|label|\n",
      "+-------------------+-------------------+------------------+-------------------+-------------------+-----------------+----+----+----+------------------+---+-----+\n",
      "|-118.50637551646153|-123.50977866091159|17.272779141230398|-118.50677902268411|-123.50482267979868|17.27427251083428|88.0|90.0|89.0|2083.3449180559837|0.0|  0.0|\n",
      "+-------------------+-------------------+------------------+-------------------+-------------------+-----------------+----+----+----+------------------+---+-----+\n",
      "only showing top 1 row\n",
      "\n"
     ]
    },
    {
     "name": "stderr",
     "output_type": "stream",
     "text": [
      "24/06/17 20:02:27 WARN GarbageCollectionMetrics: To enable non-built-in garbage collector(s) List(G1 Concurrent GC), users should configure it(them) to spark.eventLog.gcMetrics.youngGenerationGarbageCollectors or spark.eventLog.gcMetrics.oldGenerationGarbageCollectors\n"
     ]
    }
   ],
   "source": [
    "area1.show(1)"
   ]
  },
  {
   "cell_type": "code",
   "execution_count": 6,
   "id": "537b2153-b1f4-49ea-9e28-8ce80c43611c",
   "metadata": {},
   "outputs": [
    {
     "data": {
      "text/plain": [
       "46234315"
      ]
     },
     "execution_count": 6,
     "metadata": {},
     "output_type": "execute_result"
    }
   ],
   "source": [
    "area1.count()"
   ]
  },
  {
   "cell_type": "code",
   "execution_count": 7,
   "id": "24ddf3c2-c647-44a0-968a-d6d0d6a845c1",
   "metadata": {},
   "outputs": [
    {
     "name": "stderr",
     "output_type": "stream",
     "text": [
      "                                                                                \r"
     ]
    },
    {
     "data": {
      "text/plain": [
       "Row(X=-118.50637551646153, Y=-123.50977866091159, Z=17.272779141230398, X_noise=-118.50677902268411, Y_noise=-123.50482267979868, Z_noise=17.27427251083428, R=88.0, G=90.0, B=89.0, time=2083.3449180559837, eol=0.0, label=0.0)"
      ]
     },
     "execution_count": 7,
     "metadata": {},
     "output_type": "execute_result"
    }
   ],
   "source": [
    "area1.head()"
   ]
  }
 ],
 "metadata": {
  "kernelspec": {
   "display_name": "Python 3 (ipykernel)",
   "language": "python",
   "name": "python3"
  },
  "language_info": {
   "codemirror_mode": {
    "name": "ipython",
    "version": 3
   },
   "file_extension": ".py",
   "mimetype": "text/x-python",
   "name": "python",
   "nbconvert_exporter": "python",
   "pygments_lexer": "ipython3",
   "version": "3.10.14"
  }
 },
 "nbformat": 4,
 "nbformat_minor": 5
}
