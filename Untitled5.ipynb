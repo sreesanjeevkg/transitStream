{
 "cells": [
  {
   "cell_type": "code",
   "execution_count": 1,
   "id": "7bf3dfd0-b403-45ae-8649-10594bbc111b",
   "metadata": {},
   "outputs": [],
   "source": [
    "import findspark\n",
    "findspark.init()\n",
    "from pyspark.sql import SparkSession"
   ]
  },
  {
   "cell_type": "code",
   "execution_count": 2,
   "id": "f7c9df24-c6ad-4fd2-af14-7b1f9ae183fc",
   "metadata": {},
   "outputs": [
    {
     "name": "stderr",
     "output_type": "stream",
     "text": [
      "Setting default log level to \"WARN\".\n",
      "To adjust logging level use sc.setLogLevel(newLevel). For SparkR, use setLogLevel(newLevel).\n",
      "24/06/18 17:40:03 WARN NativeCodeLoader: Unable to load native-hadoop library for your platform... using builtin-java classes where applicable\n"
     ]
    }
   ],
   "source": [
    "spark = SparkSession.builder.config(\"spark.driver.memory\", \"4g\").appName(\"taxxis\").getOrCreate()"
   ]
  },
  {
   "cell_type": "code",
   "execution_count": 3,
   "id": "5ccbc517-aa16-4b16-bf26-f5873291ace9",
   "metadata": {},
   "outputs": [
    {
     "data": {
      "text/html": [
       "\n",
       "            <div>\n",
       "                <p><b>SparkSession - in-memory</b></p>\n",
       "                \n",
       "        <div>\n",
       "            <p><b>SparkContext</b></p>\n",
       "\n",
       "            <p><a href=\"http://10.140.123.148:4040\">Spark UI</a></p>\n",
       "\n",
       "            <dl>\n",
       "              <dt>Version</dt>\n",
       "                <dd><code>v3.5.1</code></dd>\n",
       "              <dt>Master</dt>\n",
       "                <dd><code>local[*]</code></dd>\n",
       "              <dt>AppName</dt>\n",
       "                <dd><code>taxxis</code></dd>\n",
       "            </dl>\n",
       "        </div>\n",
       "        \n",
       "            </div>\n",
       "        "
      ],
      "text/plain": [
       "<pyspark.sql.session.SparkSession at 0x10dde6990>"
      ]
     },
     "execution_count": 3,
     "metadata": {},
     "output_type": "execute_result"
    },
    {
     "name": "stderr",
     "output_type": "stream",
     "text": [
      "24/06/18 17:40:19 WARN GarbageCollectionMetrics: To enable non-built-in garbage collector(s) List(G1 Concurrent GC), users should configure it(them) to spark.eventLog.gcMetrics.youngGenerationGarbageCollectors or spark.eventLog.gcMetrics.oldGenerationGarbageCollectors\n"
     ]
    }
   ],
   "source": [
    "spark"
   ]
  },
  {
   "cell_type": "code",
   "execution_count": 4,
   "id": "0d3244f0-60ca-43c7-93d4-d8ca728732a7",
   "metadata": {},
   "outputs": [
    {
     "name": "stderr",
     "output_type": "stream",
     "text": [
      "                                                                                \r"
     ]
    }
   ],
   "source": [
    "taxi_data = spark.read.parquet(\"/Users/sreesanjeevkandasamygokulrajan/Downloads/data/yellow*.parquet\")"
   ]
  },
  {
   "cell_type": "code",
   "execution_count": 6,
   "id": "1d8b7e66-857f-41fc-8b58-1d6d3e65ff1e",
   "metadata": {},
   "outputs": [
    {
     "data": {
      "text/plain": [
       "['vendor_name',\n",
       " 'Trip_Pickup_DateTime',\n",
       " 'Trip_Dropoff_DateTime',\n",
       " 'Passenger_Count',\n",
       " 'Trip_Distance',\n",
       " 'Start_Lon',\n",
       " 'Start_Lat',\n",
       " 'Rate_Code',\n",
       " 'store_and_forward',\n",
       " 'End_Lon',\n",
       " 'End_Lat',\n",
       " 'Payment_Type',\n",
       " 'Fare_Amt',\n",
       " 'surcharge',\n",
       " 'mta_tax',\n",
       " 'Tip_Amt',\n",
       " 'Tolls_Amt',\n",
       " 'Total_Amt']"
      ]
     },
     "execution_count": 6,
     "metadata": {},
     "output_type": "execute_result"
    }
   ],
   "source": [
    "taxi_data.columns"
   ]
  },
  {
   "cell_type": "code",
   "execution_count": 12,
   "id": "6f6c5b50-439b-4f28-9678-03e015aa3ea0",
   "metadata": {},
   "outputs": [
    {
     "name": "stderr",
     "output_type": "stream",
     "text": [
      "                                                                                \r"
     ]
    },
    {
     "name": "stdout",
     "output_type": "stream",
     "text": [
      "+-----------+\n",
      "|vendor_name|\n",
      "+-----------+\n",
      "|        CMT|\n",
      "|        VTS|\n",
      "|        DDS|\n",
      "|       NULL|\n",
      "+-----------+\n",
      "\n"
     ]
    }
   ],
   "source": [
    "taxi_data.select(\"vendor_name\").distinct().show()"
   ]
  }
 ],
 "metadata": {
  "kernelspec": {
   "display_name": "Python 3 (ipykernel)",
   "language": "python",
   "name": "python3"
  },
  "language_info": {
   "codemirror_mode": {
    "name": "ipython",
    "version": 3
   },
   "file_extension": ".py",
   "mimetype": "text/x-python",
   "name": "python",
   "nbconvert_exporter": "python",
   "pygments_lexer": "ipython3",
   "version": "3.10.14"
  }
 },
 "nbformat": 4,
 "nbformat_minor": 5
}
