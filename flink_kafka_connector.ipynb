{
 "cells": [
  {
   "cell_type": "code",
   "execution_count": null,
   "id": "c5c8b9ec-e4ad-4d5b-9521-05efb6af9a4b",
   "metadata": {},
   "outputs": [],
   "source": [
    "import os\n",
    "import logging\n",
    "\n",
    "from pyflink.common import WatermarkStrategy\n",
    "from pyflink.common.serialization import SimpleStringSchema\n",
    "from pyflink.datastream import StreamExecutionEnvironment, RuntimeExecutionMode\n",
    "from pyflink.datastream.connectors.kafka import KafkaSource, KafkaOffsetsInitializer\n",
    "from pyflink.datastream.formats.json import JsonRowDeserializationSchema\n",
    "from pyflink.common import Types, Row\n",
    "\n",
    "RUNTIME_ENV = os.getenv(\"RUNTIME_ENV\", \"local\")\n",
    "BOOTSTRAP_SERVERS = os.getenv(\"BOOTSTRAP_SERVERS\", \"localhost:9092\")"
   ]
  },
  {
   "cell_type": "code",
   "execution_count": null,
   "id": "163352f1-d19d-4061-a4cd-a44dc812b3c0",
   "metadata": {},
   "outputs": [],
   "source": [
    "env = StreamExecutionEnvironment.get_execution_environment()\n",
    "env.set_runtime_mode(RuntimeExecutionMode.STREAMING)"
   ]
  },
  {
   "cell_type": "code",
   "execution_count": null,
   "id": "bc51c7fd-a4ce-48e4-ab86-77a674330788",
   "metadata": {},
   "outputs": [],
   "source": [
    "jar_files = [\"flink-sql-connector-kafka-3.2.0-1.18.jar\"]"
   ]
  },
  {
   "cell_type": "code",
   "execution_count": null,
   "id": "3f138d9e-5488-4583-840b-227e76cabd18",
   "metadata": {},
   "outputs": [],
   "source": [
    "CURRENT_DIR = os.getcwd()\n",
    "CURRENT_DIR"
   ]
  },
  {
   "cell_type": "code",
   "execution_count": null,
   "id": "4ce75f3b-3e07-4a73-94a0-0449d23198ba",
   "metadata": {},
   "outputs": [],
   "source": [
    "row_type_info = Types.ROW_NAMED(['id', 'name', 'email'], [Types.INT(), Types.STRING(), Types.STRING()])\n",
    "json_format = JsonRowDeserializationSchema.builder().type_info(row_type_info).build()"
   ]
  },
  {
   "cell_type": "code",
   "execution_count": null,
   "id": "f0722779-affd-4318-90b0-7fc1855546e4",
   "metadata": {},
   "outputs": [],
   "source": [
    "jar_paths = tuple(\n",
    "            [f\"file://{os.path.join(CURRENT_DIR, 'Downloads', name)}\" for name in jar_files]\n",
    "        )\n",
    "logging.info(f\"adding local jars - {', '.join(jar_files)}\")\n",
    "env.add_jars(*jar_paths)"
   ]
  },
  {
   "cell_type": "code",
   "execution_count": null,
   "id": "3b90159e-1d37-465f-bdc0-3c838a27de1d",
   "metadata": {},
   "outputs": [],
   "source": [
    "flink_test_source = (\n",
    "        KafkaSource.builder()\n",
    "        .set_bootstrap_servers(BOOTSTRAP_SERVERS)\n",
    "        .set_topics(\"simple_json_topic\")\n",
    "        .set_group_id(\"flink.tester1\")\n",
    "        .set_starting_offsets(KafkaOffsetsInitializer.latest())\n",
    "        .set_value_only_deserializer(\n",
    "            json_format\n",
    "        )\n",
    "        .build()\n",
    "    )"
   ]
  },
  {
   "cell_type": "code",
   "execution_count": null,
   "id": "69e0034f-1231-4c28-b17d-4816a3cbdca6",
   "metadata": {},
   "outputs": [],
   "source": [
    "flink_stream = env.from_source(\n",
    "        flink_test_source, WatermarkStrategy.no_watermarks(), \"flink kafka source\"\n",
    "    )\n",
    "\n",
    "flink_stream.print()"
   ]
  },
  {
   "cell_type": "code",
   "execution_count": null,
   "id": "7512093d-aac5-4d0d-8a0f-eafd9b3ed5b0",
   "metadata": {},
   "outputs": [],
   "source": [
    "env.execute(\"importer\")"
   ]
  }
 ],
 "metadata": {
  "kernelspec": {
   "display_name": "Python 3 (ipykernel)",
   "language": "python",
   "name": "python3"
  },
  "language_info": {
   "codemirror_mode": {
    "name": "ipython",
    "version": 3
   },
   "file_extension": ".py",
   "mimetype": "text/x-python",
   "name": "python",
   "nbconvert_exporter": "python",
   "pygments_lexer": "ipython3",
   "version": "3.10.14"
  }
 },
 "nbformat": 4,
 "nbformat_minor": 5
}
