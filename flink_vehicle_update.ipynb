{
 "cells": [
  {
   "cell_type": "code",
   "execution_count": 1,
   "id": "e8b7a2b3-0aa2-48b0-ab57-c20e4ad278b9",
   "metadata": {},
   "outputs": [],
   "source": [
    "import os\n",
    "import logging\n",
    "\n",
    "from pyflink.common import WatermarkStrategy\n",
    "from pyflink.datastream import StreamExecutionEnvironment, RuntimeExecutionMode\n",
    "from pyflink.datastream.connectors.kafka import KafkaSource, KafkaOffsetsInitializer\n",
    "from pyflink.datastream.formats.json import JsonRowDeserializationSchema\n",
    "from pyflink.common import Types, Row\n",
    "from pyflink.datastream.connectors.jdbc import JdbcSink, JdbcConnectionOptions, JdbcExecutionOptions\n",
    "from pyflink.datastream.connectors.kafka import KafkaTopicPartition\n",
    "import json\n",
    "from datetime import datetime\n",
    "\n",
    "RUNTIME_ENV = os.getenv(\"RUNTIME_ENV\", \"local\")\n",
    "BOOTSTRAP_SERVERS = os.getenv(\"BOOTSTRAP_SERVERS\", \"localhost:9092\")"
   ]
  },
  {
   "cell_type": "code",
   "execution_count": 12,
   "id": "b6fbe586-50de-4e24-8183-c8cb9cc55ae6",
   "metadata": {},
   "outputs": [
    {
     "data": {
      "text/plain": [
       "JavaObject id=o149"
      ]
     },
     "execution_count": 12,
     "metadata": {},
     "output_type": "execute_result"
    }
   ],
   "source": [
    "env = StreamExecutionEnvironment.get_execution_environment()\n",
    "env.set_runtime_mode(RuntimeExecutionMode.STREAMING)"
   ]
  },
  {
   "cell_type": "code",
   "execution_count": 13,
   "id": "3b4a980a-5147-4b49-b7df-97467997295e",
   "metadata": {},
   "outputs": [],
   "source": [
    "jar_files = [\"flink-sql-connector-kafka-3.2.0-1.18.jar\", \"postgresql-42.6.0.jar\", \"flink-connector-jdbc-3.1.2-1.18.jar\"]"
   ]
  },
  {
   "cell_type": "code",
   "execution_count": 14,
   "id": "604db109-498e-4e99-befe-1b7213f7fb76",
   "metadata": {},
   "outputs": [],
   "source": [
    "CURRENT_DIR = os.getcwd()"
   ]
  },
  {
   "cell_type": "code",
   "execution_count": 15,
   "id": "7391b349-61a5-40f2-b938-00d7c5e2b4d4",
   "metadata": {},
   "outputs": [],
   "source": [
    "position_info = Types.ROW_NAMED(['latitude', 'longitude', 'bearing', 'odometer', 'speed'],\n",
    "                                [Types.FLOAT(), Types.FLOAT(), Types.INT(), Types.INT(), Types.INT()])\n",
    "vehicle_type_info = Types.ROW_NAMED(['id', 'label', 'license_plate'], \n",
    "                                    [Types.STRING(), Types.STRING(), Types.STRING()])\n",
    "trip_update_trip_info = Types.ROW_NAMED(['trip_id', 'start_time', 'start_date', 'schedule_relationship', 'route_id', 'direction_id'], \n",
    "                                        [Types.STRING(), Types.STRING(), Types.STRING(), Types.INT(), Types.STRING(), Types.INT()])\n",
    "vehicle_info_type = Types.ROW_NAMED(['trip', 'position', 'current_stop_sequence', 'current_status', 'timestamp', 'congestion_level', 'stop_id', 'vehicle', 'occupancy_status', 'occupancy_percentage'],\n",
    "                                    [trip_update_trip_info, position_info, Types.INT(), Types.INT(), Types.STRING(), Types.INT(), Types.STRING(), vehicle_type_info, Types.INT(), Types.INT()])\n",
    "vehicle_info_row = Types.ROW_NAMED(['id', 'is_deleted', 'trip_update', 'vehicle', 'alert'], \n",
    "                                   [Types.STRING(), Types.BOOLEAN(), Types.STRING(), vehicle_info_type, Types.STRING()])\n",
    "json_format = JsonRowDeserializationSchema.builder().type_info(vehicle_info_row).build()"
   ]
  },
  {
   "cell_type": "code",
   "execution_count": 16,
   "id": "cca226e2-a280-4902-8883-af120348ab02",
   "metadata": {},
   "outputs": [],
   "source": [
    "jar_paths = tuple(\n",
    "            [f\"file://{os.path.join(CURRENT_DIR, 'Downloads', name)}\" for name in jar_files]\n",
    "        )\n",
    "logging.info(f\"adding local jars - {', '.join(jar_files)}\")\n",
    "env.add_jars(*jar_paths)"
   ]
  },
  {
   "cell_type": "code",
   "execution_count": 17,
   "id": "e21dedab-a842-4a8c-b801-c4a4be950e9d",
   "metadata": {},
   "outputs": [],
   "source": [
    "partition_set = {\n",
    "    KafkaTopicPartition(\"transitStream\", 1)\n",
    "}\n",
    "\n",
    "flink_simple_json_source = (\n",
    "        KafkaSource.builder()\n",
    "        .set_bootstrap_servers(BOOTSTRAP_SERVERS)\n",
    "        .set_group_id(\"whatIsThis\")\n",
    "        .set_starting_offsets(KafkaOffsetsInitializer.latest())\n",
    "        .set_value_only_deserializer(\n",
    "            json_format\n",
    "        )\n",
    "        .set_partitions(partition_set)\n",
    "        .build()\n",
    "    )"
   ]
  },
  {
   "cell_type": "code",
   "execution_count": 18,
   "id": "b6f1e719-62b4-4a93-b8fa-b7afe0e289eb",
   "metadata": {},
   "outputs": [],
   "source": [
    "flink_stream = env.from_source(\n",
    "        flink_simple_json_source, WatermarkStrategy.no_watermarks(), source_name = \"fthusd\"\n",
    "    )"
   ]
  },
  {
   "cell_type": "code",
   "execution_count": 19,
   "id": "6e162546-47e5-457f-8773-c0825eefba9b",
   "metadata": {},
   "outputs": [],
   "source": [
    "def extract_vehicle_position_info(row):\n",
    "    vehicle_id = row.vehicle.vehicle.id\n",
    "    trip_id = row.vehicle.trip.trip_id\n",
    "    start_date = datetime.strptime(row.vehicle.trip.start_date, \"%Y%m%d\")\n",
    "    latitude = row.vehicle.position.latitude\n",
    "    longitude = row.vehicle.position.longitude\n",
    "    bearing = row.vehicle.position.bearing\n",
    "    vehicle_time_updated_at = datetime.fromtimestamp(int(row.vehicle.timestamp))\n",
    "    occupancy_status = row.vehicle.occupancy_status\n",
    "    occupancy_percentage = row.vehicle.occupancy_percentage\n",
    "    vehicle_label = row.vehicle.vehicle.label\n",
    "    return Row(vehicle_id, vehicle_label, trip_id, start_date, latitude, longitude, bearing, vehicle_time_updated_at, occupancy_status, occupancy_percentage)"
   ]
  },
  {
   "cell_type": "code",
   "execution_count": 20,
   "id": "c42c7450-9a9d-4984-bb7a-68d8dab89158",
   "metadata": {},
   "outputs": [
    {
     "data": {
      "text/plain": [
       "<pyflink.datastream.data_stream.DataStreamSink at 0x129df1660>"
      ]
     },
     "execution_count": 20,
     "metadata": {},
     "output_type": "execute_result"
    }
   ],
   "source": [
    "row_type_info = Types.ROW([Types.STRING(), Types.STRING(), Types.STRING(), Types.SQL_DATE(), Types.FLOAT(), Types.FLOAT(), Types.INT(), Types.SQL_TIMESTAMP(), Types.INT(), Types.INT()])\n",
    "\n",
    "flink_stream.map(extract_vehicle_position_info, output_type = row_type_info).add_sink(\n",
    "    JdbcSink.sink(\n",
    "        \"\"\"INSERT INTO public.vehicle_position_updates (vehicle_id, vehicle_label, trip_id, start_date, latitude, longitude, bearing, vehicle_time_updated_at, occupancy_status, occupancy_percentage)\n",
    "            VALUES (?, ?, ?, ?, ?, ?, ?, ?, ?, ?) \n",
    "            ON CONFLICT (trip_id, start_date) \n",
    "            DO UPDATE SET \n",
    "            vehicle_id = EXCLUDED.vehicle_id,\n",
    "            vehicle_label = EXCLUDED.vehicle_label,\n",
    "            trip_id = EXCLUDED.trip_id,\n",
    "            start_date = EXCLUDED.start_date,\n",
    "            latitude = EXCLUDED.latitude,\n",
    "            longitude = EXCLUDED.longitude,\n",
    "            bearing = EXCLUDED.bearing,\n",
    "            updated_at = EXCLUDED.updated_at,\n",
    "            occupancy_status = EXCLUDED.occupancy_status,\n",
    "            occupancy_percentage = EXCLUDED.occupancy_percentage\n",
    "        \"\"\",\n",
    "        row_type_info,\n",
    "        JdbcConnectionOptions.JdbcConnectionOptionsBuilder()\n",
    "            .with_url('jdbc:postgresql://localhost:5432/transitstreamtest')\n",
    "            .with_driver_name('org.postgresql.Driver')\n",
    "            .with_user_name('root')\n",
    "            .with_password('root')\n",
    "            .build(),\n",
    "        JdbcExecutionOptions.builder()\n",
    "            .with_batch_size(50)\n",
    "            .with_max_retries(0)\n",
    "            .build()\n",
    ")\n",
    ")\n"
   ]
  },
  {
   "cell_type": "code",
   "execution_count": 21,
   "id": "49848a56-6b6b-427e-8cd8-0def0aa686b0",
   "metadata": {},
   "outputs": [
    {
     "ename": "KeyboardInterrupt",
     "evalue": "",
     "output_type": "error",
     "traceback": [
      "\u001b[0;31m---------------------------------------------------------------------------\u001b[0m",
      "\u001b[0;31mKeyboardInterrupt\u001b[0m                         Traceback (most recent call last)",
      "Cell \u001b[0;32mIn[21], line 1\u001b[0m\n\u001b[0;32m----> 1\u001b[0m \u001b[43menv\u001b[49m\u001b[38;5;241;43m.\u001b[39;49m\u001b[43mexecute\u001b[49m\u001b[43m(\u001b[49m\u001b[38;5;124;43m\"\u001b[39;49m\u001b[38;5;124;43mvehicleUpdcsdcates\u001b[39;49m\u001b[38;5;124;43m\"\u001b[39;49m\u001b[43m)\u001b[49m \n\u001b[1;32m      2\u001b[0m \u001b[38;5;66;03m# The program execution will be logged and displayed with the provided name\u001b[39;00m\n",
      "File \u001b[0;32m~/.pyenv/versions/3.10.14/lib/python3.10/site-packages/pyflink/datastream/stream_execution_environment.py:813\u001b[0m, in \u001b[0;36mStreamExecutionEnvironment.execute\u001b[0;34m(self, job_name)\u001b[0m\n\u001b[1;32m    801\u001b[0m \u001b[38;5;250m\u001b[39m\u001b[38;5;124;03m\"\"\"\u001b[39;00m\n\u001b[1;32m    802\u001b[0m \u001b[38;5;124;03mTriggers the program execution. The environment will execute all parts of\u001b[39;00m\n\u001b[1;32m    803\u001b[0m \u001b[38;5;124;03mthe program that have resulted in a \"sink\" operation. Sink operations are\u001b[39;00m\n\u001b[0;32m   (...)\u001b[0m\n\u001b[1;32m    809\u001b[0m \u001b[38;5;124;03m:return: The result of the job execution, containing elapsed time and accumulators.\u001b[39;00m\n\u001b[1;32m    810\u001b[0m \u001b[38;5;124;03m\"\"\"\u001b[39;00m\n\u001b[1;32m    812\u001b[0m j_stream_graph \u001b[38;5;241m=\u001b[39m \u001b[38;5;28mself\u001b[39m\u001b[38;5;241m.\u001b[39m_generate_stream_graph(clear_transformations\u001b[38;5;241m=\u001b[39m\u001b[38;5;28;01mTrue\u001b[39;00m, job_name\u001b[38;5;241m=\u001b[39mjob_name)\n\u001b[0;32m--> 813\u001b[0m \u001b[38;5;28;01mreturn\u001b[39;00m JobExecutionResult(\u001b[38;5;28;43mself\u001b[39;49m\u001b[38;5;241;43m.\u001b[39;49m\u001b[43m_j_stream_execution_environment\u001b[49m\u001b[38;5;241;43m.\u001b[39;49m\u001b[43mexecute\u001b[49m\u001b[43m(\u001b[49m\u001b[43mj_stream_graph\u001b[49m\u001b[43m)\u001b[49m)\n",
      "File \u001b[0;32m~/.pyenv/versions/3.10.14/lib/python3.10/site-packages/py4j/java_gateway.py:1321\u001b[0m, in \u001b[0;36mJavaMember.__call__\u001b[0;34m(self, *args)\u001b[0m\n\u001b[1;32m   1314\u001b[0m args_command, temp_args \u001b[38;5;241m=\u001b[39m \u001b[38;5;28mself\u001b[39m\u001b[38;5;241m.\u001b[39m_build_args(\u001b[38;5;241m*\u001b[39margs)\n\u001b[1;32m   1316\u001b[0m command \u001b[38;5;241m=\u001b[39m proto\u001b[38;5;241m.\u001b[39mCALL_COMMAND_NAME \u001b[38;5;241m+\u001b[39m\\\n\u001b[1;32m   1317\u001b[0m     \u001b[38;5;28mself\u001b[39m\u001b[38;5;241m.\u001b[39mcommand_header \u001b[38;5;241m+\u001b[39m\\\n\u001b[1;32m   1318\u001b[0m     args_command \u001b[38;5;241m+\u001b[39m\\\n\u001b[1;32m   1319\u001b[0m     proto\u001b[38;5;241m.\u001b[39mEND_COMMAND_PART\n\u001b[0;32m-> 1321\u001b[0m answer \u001b[38;5;241m=\u001b[39m \u001b[38;5;28;43mself\u001b[39;49m\u001b[38;5;241;43m.\u001b[39;49m\u001b[43mgateway_client\u001b[49m\u001b[38;5;241;43m.\u001b[39;49m\u001b[43msend_command\u001b[49m\u001b[43m(\u001b[49m\u001b[43mcommand\u001b[49m\u001b[43m)\u001b[49m\n\u001b[1;32m   1322\u001b[0m return_value \u001b[38;5;241m=\u001b[39m get_return_value(\n\u001b[1;32m   1323\u001b[0m     answer, \u001b[38;5;28mself\u001b[39m\u001b[38;5;241m.\u001b[39mgateway_client, \u001b[38;5;28mself\u001b[39m\u001b[38;5;241m.\u001b[39mtarget_id, \u001b[38;5;28mself\u001b[39m\u001b[38;5;241m.\u001b[39mname)\n\u001b[1;32m   1325\u001b[0m \u001b[38;5;28;01mfor\u001b[39;00m temp_arg \u001b[38;5;129;01min\u001b[39;00m temp_args:\n",
      "File \u001b[0;32m~/.pyenv/versions/3.10.14/lib/python3.10/site-packages/py4j/java_gateway.py:1038\u001b[0m, in \u001b[0;36mGatewayClient.send_command\u001b[0;34m(self, command, retry, binary)\u001b[0m\n\u001b[1;32m   1036\u001b[0m connection \u001b[38;5;241m=\u001b[39m \u001b[38;5;28mself\u001b[39m\u001b[38;5;241m.\u001b[39m_get_connection()\n\u001b[1;32m   1037\u001b[0m \u001b[38;5;28;01mtry\u001b[39;00m:\n\u001b[0;32m-> 1038\u001b[0m     response \u001b[38;5;241m=\u001b[39m \u001b[43mconnection\u001b[49m\u001b[38;5;241;43m.\u001b[39;49m\u001b[43msend_command\u001b[49m\u001b[43m(\u001b[49m\u001b[43mcommand\u001b[49m\u001b[43m)\u001b[49m\n\u001b[1;32m   1039\u001b[0m     \u001b[38;5;28;01mif\u001b[39;00m binary:\n\u001b[1;32m   1040\u001b[0m         \u001b[38;5;28;01mreturn\u001b[39;00m response, \u001b[38;5;28mself\u001b[39m\u001b[38;5;241m.\u001b[39m_create_connection_guard(connection)\n",
      "File \u001b[0;32m~/.pyenv/versions/3.10.14/lib/python3.10/site-packages/py4j/java_gateway.py:1217\u001b[0m, in \u001b[0;36mGatewayConnection.send_command\u001b[0;34m(self, command)\u001b[0m\n\u001b[1;32m   1213\u001b[0m     \u001b[38;5;28;01mraise\u001b[39;00m Py4JNetworkError(\n\u001b[1;32m   1214\u001b[0m         \u001b[38;5;124m\"\u001b[39m\u001b[38;5;124mError while sending\u001b[39m\u001b[38;5;124m\"\u001b[39m, e, proto\u001b[38;5;241m.\u001b[39mERROR_ON_SEND)\n\u001b[1;32m   1216\u001b[0m \u001b[38;5;28;01mtry\u001b[39;00m:\n\u001b[0;32m-> 1217\u001b[0m     answer \u001b[38;5;241m=\u001b[39m smart_decode(\u001b[38;5;28;43mself\u001b[39;49m\u001b[38;5;241;43m.\u001b[39;49m\u001b[43mstream\u001b[49m\u001b[38;5;241;43m.\u001b[39;49m\u001b[43mreadline\u001b[49m\u001b[43m(\u001b[49m\u001b[43m)\u001b[49m[:\u001b[38;5;241m-\u001b[39m\u001b[38;5;241m1\u001b[39m])\n\u001b[1;32m   1218\u001b[0m     logger\u001b[38;5;241m.\u001b[39mdebug(\u001b[38;5;124m\"\u001b[39m\u001b[38;5;124mAnswer received: \u001b[39m\u001b[38;5;132;01m{0}\u001b[39;00m\u001b[38;5;124m\"\u001b[39m\u001b[38;5;241m.\u001b[39mformat(answer))\n\u001b[1;32m   1219\u001b[0m     \u001b[38;5;28;01mif\u001b[39;00m answer\u001b[38;5;241m.\u001b[39mstartswith(proto\u001b[38;5;241m.\u001b[39mRETURN_MESSAGE):\n",
      "File \u001b[0;32m~/.pyenv/versions/3.10.14/lib/python3.10/socket.py:705\u001b[0m, in \u001b[0;36mSocketIO.readinto\u001b[0;34m(self, b)\u001b[0m\n\u001b[1;32m    703\u001b[0m \u001b[38;5;28;01mwhile\u001b[39;00m \u001b[38;5;28;01mTrue\u001b[39;00m:\n\u001b[1;32m    704\u001b[0m     \u001b[38;5;28;01mtry\u001b[39;00m:\n\u001b[0;32m--> 705\u001b[0m         \u001b[38;5;28;01mreturn\u001b[39;00m \u001b[38;5;28;43mself\u001b[39;49m\u001b[38;5;241;43m.\u001b[39;49m\u001b[43m_sock\u001b[49m\u001b[38;5;241;43m.\u001b[39;49m\u001b[43mrecv_into\u001b[49m\u001b[43m(\u001b[49m\u001b[43mb\u001b[49m\u001b[43m)\u001b[49m\n\u001b[1;32m    706\u001b[0m     \u001b[38;5;28;01mexcept\u001b[39;00m timeout:\n\u001b[1;32m    707\u001b[0m         \u001b[38;5;28mself\u001b[39m\u001b[38;5;241m.\u001b[39m_timeout_occurred \u001b[38;5;241m=\u001b[39m \u001b[38;5;28;01mTrue\u001b[39;00m\n",
      "\u001b[0;31mKeyboardInterrupt\u001b[0m: "
     ]
    }
   ],
   "source": [
    "env.execute(\"vehicleUpdcsdcates\") \n",
    "# The program execution will be logged and displayed with the provided name"
   ]
  },
  {
   "cell_type": "code",
   "execution_count": 16,
   "id": "697483ff-1b0e-4001-90d1-c4f61fa0a3f2",
   "metadata": {},
   "outputs": [],
   "source": [
    "env.close()"
   ]
  }
 ],
 "metadata": {
  "kernelspec": {
   "display_name": "Python 3 (ipykernel)",
   "language": "python",
   "name": "python3"
  },
  "language_info": {
   "codemirror_mode": {
    "name": "ipython",
    "version": 3
   },
   "file_extension": ".py",
   "mimetype": "text/x-python",
   "name": "python",
   "nbconvert_exporter": "python",
   "pygments_lexer": "ipython3",
   "version": "3.10.14"
  }
 },
 "nbformat": 4,
 "nbformat_minor": 5
}
