{
 "cells": [
  {
   "cell_type": "code",
   "execution_count": 76,
   "id": "19205195-44d5-441e-929f-14e558492908",
   "metadata": {},
   "outputs": [],
   "source": [
    "from kafka import KafkaProducer\n",
    "from datetime import datetime\n",
    "import time\n",
    "import json\n",
    "import requests"
   ]
  },
  {
   "cell_type": "code",
   "execution_count": 77,
   "id": "07a2eb96-4b1a-46da-9712-59fabdecf24d",
   "metadata": {},
   "outputs": [],
   "source": [
    "producer = KafkaProducer(bootstrap_servers='localhost:9092', key_serializer = lambda msg: json.dumps(msg).encode('utf-8'),\n",
    "                            value_serializer = lambda msg: json.dumps(msg).encode('utf-8'))"
   ]
  },
  {
   "cell_type": "code",
   "execution_count": 72,
   "id": "e23d038a-632c-4a69-8a4f-0205f4d8821f",
   "metadata": {},
   "outputs": [],
   "source": [
    "# from kafka.admin import KafkaAdminClient, NewTopic\n",
    "\n",
    "# admin_client = KafkaAdminClient(\n",
    "#     bootstrap_servers=\"localhost:9092\", \n",
    "#     client_id='test'\n",
    "# )\n",
    "\n",
    "# topic_list = []\n",
    "# topic_list.append(NewTopic(name=\"simple_json_topic\", num_partitions=2, replication_factor=1))\n",
    "# admin_client.create_topics(new_topics=topic_list, validate_only=False)"
   ]
  },
  {
   "cell_type": "code",
   "execution_count": 83,
   "id": "037d3a8e-bf5c-441d-9e86-37f411bb32e0",
   "metadata": {},
   "outputs": [],
   "source": [
    "def generate_data(id):\n",
    "    return {\n",
    "        'id': id,\n",
    "        'name': f'User {id}',\n",
    "        'email': f'user{id}@example.com',\n",
    "        'trip_info': trip_info_json\n",
    "    }"
   ]
  },
  {
   "cell_type": "code",
   "execution_count": 84,
   "id": "0cfb649e-c6d1-4102-9c71-f2277f024851",
   "metadata": {},
   "outputs": [
    {
     "name": "stdout",
     "output_type": "stream",
     "text": [
      "Sent message 502\n",
      "Sent message 503\n",
      "Sent message 504\n",
      "Sent message 505\n",
      "Sent message 506\n",
      "Sent message 507\n",
      "Sent message 508\n",
      "Sent message 509\n",
      "Sent message 510\n",
      "Sent message 511\n",
      "Sent message 512\n",
      "Sent message 513\n",
      "Sent message 514\n",
      "Sent message 515\n",
      "Sent message 516\n",
      "Sent message 517\n",
      "Sent message 518\n",
      "Sent message 519\n",
      "Sent message 520\n",
      "Sent message 521\n",
      "Sent message 522\n",
      "Sent message 523\n",
      "Sent message 524\n",
      "Sent message 525\n"
     ]
    },
    {
     "ename": "KeyboardInterrupt",
     "evalue": "",
     "output_type": "error",
     "traceback": [
      "\u001b[0;31m---------------------------------------------------------------------------\u001b[0m",
      "\u001b[0;31mKeyboardInterrupt\u001b[0m                         Traceback (most recent call last)",
      "Cell \u001b[0;32mIn[84], line 9\u001b[0m\n\u001b[1;32m      5\u001b[0m producer\u001b[38;5;241m.\u001b[39msend(topic \u001b[38;5;241m=\u001b[39m \u001b[38;5;124m\"\u001b[39m\u001b[38;5;124msimple_json_topic\u001b[39m\u001b[38;5;124m\"\u001b[39m, value \u001b[38;5;241m=\u001b[39m data)\n\u001b[1;32m      7\u001b[0m \u001b[38;5;28mprint\u001b[39m(\u001b[38;5;124mf\u001b[39m\u001b[38;5;124m\"\u001b[39m\u001b[38;5;124mSent message \u001b[39m\u001b[38;5;132;01m{\u001b[39;00mi\u001b[38;5;250m \u001b[39m\u001b[38;5;241m+\u001b[39m\u001b[38;5;250m \u001b[39m\u001b[38;5;241m1\u001b[39m\u001b[38;5;132;01m}\u001b[39;00m\u001b[38;5;124m\"\u001b[39m)\n\u001b[0;32m----> 9\u001b[0m \u001b[43mtime\u001b[49m\u001b[38;5;241;43m.\u001b[39;49m\u001b[43msleep\u001b[49m\u001b[43m(\u001b[49m\u001b[38;5;241;43m10\u001b[39;49m\u001b[43m)\u001b[49m\n",
      "\u001b[0;31mKeyboardInterrupt\u001b[0m: "
     ]
    }
   ],
   "source": [
    "i = 500\n",
    "while True:\n",
    "    i = i + 1\n",
    "    data = generate_data(i + 1)\n",
    "    producer.send(topic = \"simple_json_topic\", value = data)\n",
    "    \n",
    "    print(f\"Sent message {i + 1}\")\n",
    "    \n",
    "    time.sleep(10)"
   ]
  },
  {
   "cell_type": "code",
   "execution_count": 82,
   "id": "f7c3b38e-e0dd-48b3-9e2e-e3b00ddf4c4b",
   "metadata": {},
   "outputs": [
    {
     "name": "stdout",
     "output_type": "stream",
     "text": [
      "id\n",
      "is_deleted\n",
      "trip_update\n",
      "vehicle\n",
      "alert\n"
     ]
    }
   ],
   "source": [
    "trip_info_string =  \"\"\"       \n",
    "[\n",
    "{\n",
    "            \"id\": \"1179330\",\n",
    "            \"is_deleted\": false,\n",
    "            \"trip_update\": {\n",
    "                \"trip\": {\n",
    "                    \"trip_id\": \"1179330\",\n",
    "                    \"start_time\": \"12:24:00\",\n",
    "                    \"start_date\": \"20240711\",\n",
    "                    \"schedule_relationship\": 0,\n",
    "                    \"route_id\": \"10670\",\n",
    "                    \"direction_id\": 0\n",
    "                },\n",
    "                \"stop_time_update\": [\n",
    "                    {\n",
    "                        \"stop_sequence\": 40,\n",
    "                        \"arrival\": null,\n",
    "                        \"departure\": {\n",
    "                            \"delay\": -60,\n",
    "                            \"time\": 1720720700,\n",
    "                            \"uncertainty\": 0\n",
    "                        },\n",
    "                        \"stop_id\": \"5\",\n",
    "                        \"schedule_relationship\": 0\n",
    "                    },\n",
    "                    {\n",
    "                        \"stop_sequence\": 41,\n",
    "                        \"arrival\": null,\n",
    "                        \"departure\": {\n",
    "                            \"delay\": -60,\n",
    "                            \"time\": 1720720779,\n",
    "                            \"uncertainty\": 0\n",
    "                        },\n",
    "                        \"stop_id\": \"61\",\n",
    "                        \"schedule_relationship\": 0\n",
    "                    },\n",
    "                    {\n",
    "                        \"stop_sequence\": 42,\n",
    "                        \"arrival\": null,\n",
    "                        \"departure\": {\n",
    "                            \"delay\": -60,\n",
    "                            \"time\": 1720720867,\n",
    "                            \"uncertainty\": 0\n",
    "                        },\n",
    "                        \"stop_id\": \"75\",\n",
    "                        \"schedule_relationship\": 0\n",
    "                    },\n",
    "                    {\n",
    "                        \"stop_sequence\": 43,\n",
    "                        \"arrival\": null,\n",
    "                        \"departure\": {\n",
    "                            \"delay\": -60,\n",
    "                            \"time\": 1720720960,\n",
    "                            \"uncertainty\": 0\n",
    "                        },\n",
    "                        \"stop_id\": \"39\",\n",
    "                        \"schedule_relationship\": 0\n",
    "                    },\n",
    "                    {\n",
    "                        \"stop_sequence\": 44,\n",
    "                        \"arrival\": null,\n",
    "                        \"departure\": {\n",
    "                            \"delay\": -60,\n",
    "                            \"time\": 1720720999,\n",
    "                            \"uncertainty\": 0\n",
    "                        },\n",
    "                        \"stop_id\": \"765\",\n",
    "                        \"schedule_relationship\": 0\n",
    "                    },\n",
    "                    {\n",
    "                        \"stop_sequence\": 45,\n",
    "                        \"arrival\": null,\n",
    "                        \"departure\": {\n",
    "                            \"delay\": -60,\n",
    "                            \"time\": 1720721080,\n",
    "                            \"uncertainty\": 0\n",
    "                        },\n",
    "                        \"stop_id\": \"49\",\n",
    "                        \"schedule_relationship\": 0\n",
    "                    },\n",
    "                    {\n",
    "                        \"stop_sequence\": 46,\n",
    "                        \"arrival\": {\n",
    "                            \"delay\": -60,\n",
    "                            \"time\": 1720721160,\n",
    "                            \"uncertainty\": 0\n",
    "                        },\n",
    "                        \"departure\": null,\n",
    "                        \"stop_id\": \"10\",\n",
    "                        \"schedule_relationship\": 0\n",
    "                    }\n",
    "                ],\n",
    "                \"vehicle\": {\n",
    "                    \"id\": \"2410\",\n",
    "                    \"label\": \"016\",\n",
    "                    \"license_plate\": \"\"\n",
    "                },\n",
    "                \"timestamp\": 1720720717,\n",
    "                \"delay\": 0\n",
    "            },\n",
    "            \"vehicle\": null,\n",
    "            \"alert\": null\n",
    "        }\n",
    "        ]\n",
    "        \"\"\"\n",
    "\n",
    "trip_info_json =  json.loads(trip_info_string)"
   ]
  },
  {
   "cell_type": "code",
   "execution_count": 86,
   "id": "4d07d9b6-0825-417b-9c58-999425481e32",
   "metadata": {},
   "outputs": [],
   "source": [
    "producer.close()"
   ]
  }
 ],
 "metadata": {
  "kernelspec": {
   "display_name": "Python 3 (ipykernel)",
   "language": "python",
   "name": "python3"
  },
  "language_info": {
   "codemirror_mode": {
    "name": "ipython",
    "version": 3
   },
   "file_extension": ".py",
   "mimetype": "text/x-python",
   "name": "python",
   "nbconvert_exporter": "python",
   "pygments_lexer": "ipython3",
   "version": "3.10.14"
  }
 },
 "nbformat": 4,
 "nbformat_minor": 5
}
