{
 "cells": [
  {
   "cell_type": "code",
   "execution_count": 1,
   "id": "8c30bb3b-035c-46e3-93d4-5673663e07e5",
   "metadata": {},
   "outputs": [],
   "source": [
    "from pyflink.table import EnvironmentSettings, TableEnvironment, StreamTableEnvironment\n",
    "from pyflink.datastream import StreamExecutionEnvironment, RuntimeExecutionMode\n",
    "import os\n",
    "from pyflink.common import Types, Row\n",
    "from pyflink.datastream.connectors.jdbc import JdbcSink, JdbcConnectionOptions, JdbcExecutionOptions"
   ]
  },
  {
   "cell_type": "code",
   "execution_count": 2,
   "id": "c9b908d5-b33a-45b4-84d8-9929a8faedc0",
   "metadata": {},
   "outputs": [],
   "source": [
    "RUNTIME_ENV = os.getenv(\"RUNTIME_ENV\", \"local\")\n",
    "BOOTSTRAP_SERVERS = os.getenv(\"BOOTSTRAP_SERVERS\", \"localhost:9092\")\n",
    "\n",
    "CURRENT_DIR = os.getcwd()\n",
    "jar_files = [\n",
    "    \"flink-sql-connector-postgres-cdc-3.1.1.jar\",\n",
    "    \"postgresql-42.6.0.jar\", \n",
    "    \"flink-connector-jdbc-3.1.2-1.18.jar\"\n",
    "]\n",
    "jar_urls = [f\"file:///{CURRENT_DIR}/Downloads/{jar_file}\" for jar_file in jar_files]\n",
    "\n",
    "jar_paths = tuple(\n",
    "            [f\"file://{os.path.join(CURRENT_DIR, 'Downloads', name)}\" for name in jar_files]\n",
    "        )\n",
    "\n",
    "# Set up the JAR files first\n",
    "jars = \";\".join(jar_urls)\n",
    "os.environ[\"PYFLINK_CLIENT_JAR\"] = jars"
   ]
  },
  {
   "cell_type": "code",
   "execution_count": 3,
   "id": "fc821a86-85f4-42d0-b7c8-519b3b26e2f5",
   "metadata": {},
   "outputs": [
    {
     "data": {
      "text/plain": [
       "JavaObject id=o62"
      ]
     },
     "execution_count": 3,
     "metadata": {},
     "output_type": "execute_result"
    }
   ],
   "source": [
    "env = StreamExecutionEnvironment.get_execution_environment()\n",
    "env.add_jars(*jar_paths)\n",
    "table_env = StreamTableEnvironment.create(env)\n",
    "env.set_runtime_mode(RuntimeExecutionMode.STREAMING)"
   ]
  },
  {
   "cell_type": "code",
   "execution_count": 4,
   "id": "5042aacd-4888-49c2-98ea-e638f86ec50c",
   "metadata": {},
   "outputs": [
    {
     "data": {
      "text/plain": [
       "<pyflink.common.configuration.Configuration at 0x12aea1a20>"
      ]
     },
     "execution_count": 4,
     "metadata": {},
     "output_type": "execute_result"
    }
   ],
   "source": [
    "table_env.get_config().get_configuration().set_string(\"pipeline.jars\", jars)"
   ]
  },
  {
   "cell_type": "code",
   "execution_count": 5,
   "id": "4e4a438a-ccb7-4c29-86c3-4896dda7af60",
   "metadata": {},
   "outputs": [
    {
     "data": {
      "text/plain": [
       "<pyflink.table.table_result.TableResult at 0x12aea0a90>"
      ]
     },
     "execution_count": 5,
     "metadata": {},
     "output_type": "execute_result"
    }
   ],
   "source": [
    "postgres_sink = f\"\"\"\n",
    "CREATE TABLE vehicle_updates_cdc_test (\n",
    "    vehicle_id STRING,\n",
    "    vehicle_label STRING,\n",
    "    trip_id STRING,\n",
    "    start_date DATE,\n",
    "    latitude FLOAT,\n",
    "    longitude FLOAT,\n",
    "    bearing INT,\n",
    "    updated_at TIMESTAMP,\n",
    "    occupancy_status INT,\n",
    "    occupancy_percentage INT\n",
    " ) WITH (\n",
    "  'connector' = 'postgres-cdc',\n",
    "   'hostname' = 'localhost',\n",
    "   'port' = '5432',\n",
    "   'username' = 'root',\n",
    "   'password' = 'root',\n",
    "   'database-name' = 'transitstreamtest',\n",
    "   'schema-name' = 'public',\n",
    "   'table-name' = 'vehicle_position_updates',\n",
    "   'slot.name' = 'vehicleupdatescdc',\n",
    "   'decoding.plugin.name' = 'pgoutput'\n",
    " );\n",
    "\"\"\"\n",
    "\n",
    "table_env.execute_sql(postgres_sink)"
   ]
  },
  {
   "cell_type": "code",
   "execution_count": 7,
   "id": "46c2acf0-bf5e-4d0b-8740-4adf7f2368c3",
   "metadata": {},
   "outputs": [
    {
     "ename": "KeyboardInterrupt",
     "evalue": "",
     "output_type": "error",
     "traceback": [
      "\u001b[0;31m---------------------------------------------------------------------------\u001b[0m",
      "\u001b[0;31mKeyboardInterrupt\u001b[0m                         Traceback (most recent call last)",
      "Cell \u001b[0;32mIn[7], line 35\u001b[0m\n\u001b[1;32m     10\u001b[0m res_table \u001b[38;5;241m=\u001b[39m table_env\u001b[38;5;241m.\u001b[39msql_query(\u001b[38;5;124m\"\"\"\u001b[39m\n\u001b[1;32m     11\u001b[0m \u001b[38;5;124m           select *\u001b[39m\n\u001b[1;32m     12\u001b[0m \u001b[38;5;124m           from vehicle_updates_cdc_test\u001b[39m\n\u001b[1;32m     13\u001b[0m \u001b[38;5;124m           \u001b[39m\u001b[38;5;124m\"\"\"\u001b[39m)\n\u001b[1;32m     15\u001b[0m table_env\u001b[38;5;241m.\u001b[39mto_changelog_stream(res_table)\u001b[38;5;241m.\u001b[39mmap(addRowKind, row_type_info)\u001b[38;5;241m.\u001b[39madd_sink(\n\u001b[1;32m     16\u001b[0m     JdbcSink\u001b[38;5;241m.\u001b[39msink(\n\u001b[1;32m     17\u001b[0m \u001b[38;5;250m        \u001b[39m\u001b[38;5;124;03m\"\"\"INSERT INTO public.vehicle_updates_cdc_test (vehicle_id, vehicle_label, trip_id, start_date, latitude, longitude, bearing, updated_at, occupancy_status, occupancy_percentage, op)\u001b[39;00m\n\u001b[0;32m   (...)\u001b[0m\n\u001b[1;32m     31\u001b[0m )\n\u001b[1;32m     32\u001b[0m )\n\u001b[0;32m---> 35\u001b[0m \u001b[43menv\u001b[49m\u001b[38;5;241;43m.\u001b[39;49m\u001b[43mexecute\u001b[49m\u001b[43m(\u001b[49m\u001b[43m)\u001b[49m\n",
      "File \u001b[0;32m~/.pyenv/versions/3.10.14/lib/python3.10/site-packages/pyflink/datastream/stream_execution_environment.py:813\u001b[0m, in \u001b[0;36mStreamExecutionEnvironment.execute\u001b[0;34m(self, job_name)\u001b[0m\n\u001b[1;32m    801\u001b[0m \u001b[38;5;250m\u001b[39m\u001b[38;5;124;03m\"\"\"\u001b[39;00m\n\u001b[1;32m    802\u001b[0m \u001b[38;5;124;03mTriggers the program execution. The environment will execute all parts of\u001b[39;00m\n\u001b[1;32m    803\u001b[0m \u001b[38;5;124;03mthe program that have resulted in a \"sink\" operation. Sink operations are\u001b[39;00m\n\u001b[0;32m   (...)\u001b[0m\n\u001b[1;32m    809\u001b[0m \u001b[38;5;124;03m:return: The result of the job execution, containing elapsed time and accumulators.\u001b[39;00m\n\u001b[1;32m    810\u001b[0m \u001b[38;5;124;03m\"\"\"\u001b[39;00m\n\u001b[1;32m    812\u001b[0m j_stream_graph \u001b[38;5;241m=\u001b[39m \u001b[38;5;28mself\u001b[39m\u001b[38;5;241m.\u001b[39m_generate_stream_graph(clear_transformations\u001b[38;5;241m=\u001b[39m\u001b[38;5;28;01mTrue\u001b[39;00m, job_name\u001b[38;5;241m=\u001b[39mjob_name)\n\u001b[0;32m--> 813\u001b[0m \u001b[38;5;28;01mreturn\u001b[39;00m JobExecutionResult(\u001b[38;5;28;43mself\u001b[39;49m\u001b[38;5;241;43m.\u001b[39;49m\u001b[43m_j_stream_execution_environment\u001b[49m\u001b[38;5;241;43m.\u001b[39;49m\u001b[43mexecute\u001b[49m\u001b[43m(\u001b[49m\u001b[43mj_stream_graph\u001b[49m\u001b[43m)\u001b[49m)\n",
      "File \u001b[0;32m~/.pyenv/versions/3.10.14/lib/python3.10/site-packages/py4j/java_gateway.py:1321\u001b[0m, in \u001b[0;36mJavaMember.__call__\u001b[0;34m(self, *args)\u001b[0m\n\u001b[1;32m   1314\u001b[0m args_command, temp_args \u001b[38;5;241m=\u001b[39m \u001b[38;5;28mself\u001b[39m\u001b[38;5;241m.\u001b[39m_build_args(\u001b[38;5;241m*\u001b[39margs)\n\u001b[1;32m   1316\u001b[0m command \u001b[38;5;241m=\u001b[39m proto\u001b[38;5;241m.\u001b[39mCALL_COMMAND_NAME \u001b[38;5;241m+\u001b[39m\\\n\u001b[1;32m   1317\u001b[0m     \u001b[38;5;28mself\u001b[39m\u001b[38;5;241m.\u001b[39mcommand_header \u001b[38;5;241m+\u001b[39m\\\n\u001b[1;32m   1318\u001b[0m     args_command \u001b[38;5;241m+\u001b[39m\\\n\u001b[1;32m   1319\u001b[0m     proto\u001b[38;5;241m.\u001b[39mEND_COMMAND_PART\n\u001b[0;32m-> 1321\u001b[0m answer \u001b[38;5;241m=\u001b[39m \u001b[38;5;28;43mself\u001b[39;49m\u001b[38;5;241;43m.\u001b[39;49m\u001b[43mgateway_client\u001b[49m\u001b[38;5;241;43m.\u001b[39;49m\u001b[43msend_command\u001b[49m\u001b[43m(\u001b[49m\u001b[43mcommand\u001b[49m\u001b[43m)\u001b[49m\n\u001b[1;32m   1322\u001b[0m return_value \u001b[38;5;241m=\u001b[39m get_return_value(\n\u001b[1;32m   1323\u001b[0m     answer, \u001b[38;5;28mself\u001b[39m\u001b[38;5;241m.\u001b[39mgateway_client, \u001b[38;5;28mself\u001b[39m\u001b[38;5;241m.\u001b[39mtarget_id, \u001b[38;5;28mself\u001b[39m\u001b[38;5;241m.\u001b[39mname)\n\u001b[1;32m   1325\u001b[0m \u001b[38;5;28;01mfor\u001b[39;00m temp_arg \u001b[38;5;129;01min\u001b[39;00m temp_args:\n",
      "File \u001b[0;32m~/.pyenv/versions/3.10.14/lib/python3.10/site-packages/py4j/java_gateway.py:1038\u001b[0m, in \u001b[0;36mGatewayClient.send_command\u001b[0;34m(self, command, retry, binary)\u001b[0m\n\u001b[1;32m   1036\u001b[0m connection \u001b[38;5;241m=\u001b[39m \u001b[38;5;28mself\u001b[39m\u001b[38;5;241m.\u001b[39m_get_connection()\n\u001b[1;32m   1037\u001b[0m \u001b[38;5;28;01mtry\u001b[39;00m:\n\u001b[0;32m-> 1038\u001b[0m     response \u001b[38;5;241m=\u001b[39m \u001b[43mconnection\u001b[49m\u001b[38;5;241;43m.\u001b[39;49m\u001b[43msend_command\u001b[49m\u001b[43m(\u001b[49m\u001b[43mcommand\u001b[49m\u001b[43m)\u001b[49m\n\u001b[1;32m   1039\u001b[0m     \u001b[38;5;28;01mif\u001b[39;00m binary:\n\u001b[1;32m   1040\u001b[0m         \u001b[38;5;28;01mreturn\u001b[39;00m response, \u001b[38;5;28mself\u001b[39m\u001b[38;5;241m.\u001b[39m_create_connection_guard(connection)\n",
      "File \u001b[0;32m~/.pyenv/versions/3.10.14/lib/python3.10/site-packages/py4j/java_gateway.py:1217\u001b[0m, in \u001b[0;36mGatewayConnection.send_command\u001b[0;34m(self, command)\u001b[0m\n\u001b[1;32m   1213\u001b[0m     \u001b[38;5;28;01mraise\u001b[39;00m Py4JNetworkError(\n\u001b[1;32m   1214\u001b[0m         \u001b[38;5;124m\"\u001b[39m\u001b[38;5;124mError while sending\u001b[39m\u001b[38;5;124m\"\u001b[39m, e, proto\u001b[38;5;241m.\u001b[39mERROR_ON_SEND)\n\u001b[1;32m   1216\u001b[0m \u001b[38;5;28;01mtry\u001b[39;00m:\n\u001b[0;32m-> 1217\u001b[0m     answer \u001b[38;5;241m=\u001b[39m smart_decode(\u001b[38;5;28;43mself\u001b[39;49m\u001b[38;5;241;43m.\u001b[39;49m\u001b[43mstream\u001b[49m\u001b[38;5;241;43m.\u001b[39;49m\u001b[43mreadline\u001b[49m\u001b[43m(\u001b[49m\u001b[43m)\u001b[49m[:\u001b[38;5;241m-\u001b[39m\u001b[38;5;241m1\u001b[39m])\n\u001b[1;32m   1218\u001b[0m     logger\u001b[38;5;241m.\u001b[39mdebug(\u001b[38;5;124m\"\u001b[39m\u001b[38;5;124mAnswer received: \u001b[39m\u001b[38;5;132;01m{0}\u001b[39;00m\u001b[38;5;124m\"\u001b[39m\u001b[38;5;241m.\u001b[39mformat(answer))\n\u001b[1;32m   1219\u001b[0m     \u001b[38;5;28;01mif\u001b[39;00m answer\u001b[38;5;241m.\u001b[39mstartswith(proto\u001b[38;5;241m.\u001b[39mRETURN_MESSAGE):\n",
      "File \u001b[0;32m~/.pyenv/versions/3.10.14/lib/python3.10/socket.py:705\u001b[0m, in \u001b[0;36mSocketIO.readinto\u001b[0;34m(self, b)\u001b[0m\n\u001b[1;32m    703\u001b[0m \u001b[38;5;28;01mwhile\u001b[39;00m \u001b[38;5;28;01mTrue\u001b[39;00m:\n\u001b[1;32m    704\u001b[0m     \u001b[38;5;28;01mtry\u001b[39;00m:\n\u001b[0;32m--> 705\u001b[0m         \u001b[38;5;28;01mreturn\u001b[39;00m \u001b[38;5;28;43mself\u001b[39;49m\u001b[38;5;241;43m.\u001b[39;49m\u001b[43m_sock\u001b[49m\u001b[38;5;241;43m.\u001b[39;49m\u001b[43mrecv_into\u001b[49m\u001b[43m(\u001b[49m\u001b[43mb\u001b[49m\u001b[43m)\u001b[49m\n\u001b[1;32m    706\u001b[0m     \u001b[38;5;28;01mexcept\u001b[39;00m timeout:\n\u001b[1;32m    707\u001b[0m         \u001b[38;5;28mself\u001b[39m\u001b[38;5;241m.\u001b[39m_timeout_occurred \u001b[38;5;241m=\u001b[39m \u001b[38;5;28;01mTrue\u001b[39;00m\n",
      "\u001b[0;31mKeyboardInterrupt\u001b[0m: "
     ]
    }
   ],
   "source": [
    "def addRowKind(row):\n",
    "    # vehicle_id = row.vehicle_id\n",
    "    # vehicle_label = row.vehicle_label\n",
    "    # trip_id = row.trip_id\n",
    "    # start_date = row.\n",
    "    op = str(row.get_row_kind())\n",
    "    return Row(*row, op)\n",
    "\n",
    "row_type_info = Types.ROW([Types.STRING(), Types.STRING(), Types.STRING(), Types.SQL_DATE(), Types.FLOAT(), Types.FLOAT(), Types.INT(), Types.SQL_TIMESTAMP(), Types.INT(), Types.INT(), Types.STRING()])\n",
    "res_table = table_env.sql_query(\"\"\"\n",
    "           select *\n",
    "           from vehicle_updates_cdc_test\n",
    "           \"\"\")\n",
    "\n",
    "table_env.to_changelog_stream(res_table).map(addRowKind, row_type_info).add_sink(\n",
    "    JdbcSink.sink(\n",
    "        \"\"\"INSERT INTO public.vehicle_updates_cdc_test (vehicle_id, vehicle_label, trip_id, start_date, latitude, longitude, bearing, updated_at, occupancy_status, occupancy_percentage, op)\n",
    "            VALUES (?, ?, ?, ?, ?, ?, ?, ?, ?, ?, ?)\n",
    "        \"\"\",\n",
    "        row_type_info, \n",
    "        JdbcConnectionOptions.JdbcConnectionOptionsBuilder()\n",
    "            .with_url('jdbc:postgresql://localhost:5432/transitstreamtest')\n",
    "            .with_driver_name('org.postgresql.Driver')\n",
    "            .with_user_name('root')\n",
    "            .with_password('root')\n",
    "            .build(),\n",
    "        JdbcExecutionOptions.builder()\n",
    "            .with_batch_size(1)\n",
    "            .with_max_retries(0)\n",
    "            .build()\n",
    ")\n",
    ")\n",
    "    \n",
    "    \n",
    "env.execute()"
   ]
  }
 ],
 "metadata": {
  "kernelspec": {
   "display_name": "Python 3 (ipykernel)",
   "language": "python",
   "name": "python3"
  },
  "language_info": {
   "codemirror_mode": {
    "name": "ipython",
    "version": 3
   },
   "file_extension": ".py",
   "mimetype": "text/x-python",
   "name": "python",
   "nbconvert_exporter": "python",
   "pygments_lexer": "ipython3",
   "version": "3.10.14"
  }
 },
 "nbformat": 4,
 "nbformat_minor": 5
}
